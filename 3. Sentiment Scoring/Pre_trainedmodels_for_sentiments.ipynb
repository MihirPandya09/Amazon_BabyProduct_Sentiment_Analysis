{
 "cells": [
  {
   "cell_type": "code",
   "execution_count": 1,
   "id": "21d52ecf",
   "metadata": {},
   "outputs": [
    {
     "name": "stderr",
     "output_type": "stream",
     "text": [
      "c:\\Users\\Mihir\\anaconda3\\Lib\\site-packages\\tqdm\\auto.py:21: TqdmWarning: IProgress not found. Please update jupyter and ipywidgets. See https://ipywidgets.readthedocs.io/en/stable/user_install.html\n",
      "  from .autonotebook import tqdm as notebook_tqdm\n"
     ]
    },
    {
     "name": "stdout",
     "output_type": "stream",
     "text": [
      "WARNING:tensorflow:From C:\\Users\\Mihir\\AppData\\Roaming\\Python\\Python311\\site-packages\\tf_keras\\src\\losses.py:2976: The name tf.losses.sparse_softmax_cross_entropy is deprecated. Please use tf.compat.v1.losses.sparse_softmax_cross_entropy instead.\n",
      "\n"
     ]
    }
   ],
   "source": [
    "import pandas as pd\n",
    "import numpy as np\n",
    "import matplotlib.pyplot as plt\n",
    "from nltk.sentiment import SentimentIntensityAnalyzer\n",
    "from tqdm import tqdm\n",
    "import torch\n",
    "import tensorflow as tf\n",
    "from transformers import create_optimizer\n",
    "from scipy.special import softmax\n",
    "from transformers import TFRobertaForSequenceClassification\n",
    "from transformers import RobertaTokenizer, RobertaForSequenceClassification,RobertaTokenizerFast\n",
    "from transformers import BartForConditionalGeneration, BartTokenizer\n",
    "from sklearn.model_selection import train_test_split\n",
    "from sklearn.metrics import f1_score"
   ]
  },
  {
   "cell_type": "code",
   "execution_count": 2,
   "id": "05990c0d",
   "metadata": {},
   "outputs": [
    {
     "name": "stdout",
     "output_type": "stream",
     "text": [
      "Number of GPU:  1\n",
      "GPU Name:  NVIDIA GeForce RTX 3050 6GB Laptop GPU\n",
      "Using device: cuda\n"
     ]
    }
   ],
   "source": [
    "print(\"Number of GPU: \", torch.cuda.device_count())\n",
    "print(\"GPU Name: \", torch.cuda.get_device_name())\n",
    "\n",
    "\n",
    "device = torch.device('cuda' if torch.cuda.is_available() else 'cpu')\n",
    "print('Using device:', device)"
   ]
  },
  {
   "cell_type": "code",
   "execution_count": 3,
   "id": "2cacd2d1",
   "metadata": {},
   "outputs": [],
   "source": [
    "df = pd.read_json('Baby_Products.jsonl',lines = True)"
   ]
  },
  {
   "cell_type": "code",
   "execution_count": 4,
   "id": "06e6b5bd",
   "metadata": {},
   "outputs": [
    {
     "data": {
      "text/html": [
       "<div>\n",
       "<style scoped>\n",
       "    .dataframe tbody tr th:only-of-type {\n",
       "        vertical-align: middle;\n",
       "    }\n",
       "\n",
       "    .dataframe tbody tr th {\n",
       "        vertical-align: top;\n",
       "    }\n",
       "\n",
       "    .dataframe thead th {\n",
       "        text-align: right;\n",
       "    }\n",
       "</style>\n",
       "<table border=\"1\" class=\"dataframe\">\n",
       "  <thead>\n",
       "    <tr style=\"text-align: right;\">\n",
       "      <th></th>\n",
       "      <th>rating</th>\n",
       "      <th>title</th>\n",
       "      <th>text</th>\n",
       "      <th>images</th>\n",
       "      <th>asin</th>\n",
       "      <th>parent_asin</th>\n",
       "      <th>user_id</th>\n",
       "      <th>timestamp</th>\n",
       "      <th>helpful_vote</th>\n",
       "      <th>verified_purchase</th>\n",
       "    </tr>\n",
       "  </thead>\n",
       "  <tbody>\n",
       "    <tr>\n",
       "      <th>0</th>\n",
       "      <td>4</td>\n",
       "      <td>Good buy for preschool naps and home use...</td>\n",
       "      <td>I bought two of these for my kids for nap time...</td>\n",
       "      <td>[]</td>\n",
       "      <td>B004FM7VOW</td>\n",
       "      <td>B089MS68G8</td>\n",
       "      <td>AGKASBHYZPGTEPO6LWZPVJWB2BVA</td>\n",
       "      <td>2016-08-18 18:52:17</td>\n",
       "      <td>1</td>\n",
       "      <td>True</td>\n",
       "    </tr>\n",
       "    <tr>\n",
       "      <th>1</th>\n",
       "      <td>5</td>\n",
       "      <td>THEY WORK- and are super cute to boot...</td>\n",
       "      <td>LOVE THESE! AND THEY WORK!!! I was on the fenc...</td>\n",
       "      <td>[]</td>\n",
       "      <td>B01E5E703G</td>\n",
       "      <td>B01E5E703G</td>\n",
       "      <td>AGKASBHYZPGTEPO6LWZPVJWB2BVA</td>\n",
       "      <td>2016-08-18 17:44:04</td>\n",
       "      <td>1</td>\n",
       "      <td>True</td>\n",
       "    </tr>\n",
       "    <tr>\n",
       "      <th>2</th>\n",
       "      <td>1</td>\n",
       "      <td>cute but small and pretty much unusable as a c...</td>\n",
       "      <td>cute but small and pretty much unusable as a c...</td>\n",
       "      <td>[]</td>\n",
       "      <td>B00F463XV8</td>\n",
       "      <td>B00F9386Q8</td>\n",
       "      <td>AGKASBHYZPGTEPO6LWZPVJWB2BVA</td>\n",
       "      <td>2016-01-13 02:08:01</td>\n",
       "      <td>0</td>\n",
       "      <td>True</td>\n",
       "    </tr>\n",
       "    <tr>\n",
       "      <th>3</th>\n",
       "      <td>5</td>\n",
       "      <td>Works great perfect size!</td>\n",
       "      <td>I have lots of different disposable diaper bag...</td>\n",
       "      <td>[]</td>\n",
       "      <td>B0007V644S</td>\n",
       "      <td>B07RRDX26B</td>\n",
       "      <td>AGCI7FAH4GL5FI65HYLKWTMFZ2CQ</td>\n",
       "      <td>2014-08-25 19:14:11</td>\n",
       "      <td>0</td>\n",
       "      <td>True</td>\n",
       "    </tr>\n",
       "    <tr>\n",
       "      <th>4</th>\n",
       "      <td>5</td>\n",
       "      <td>Cute and Works Great</td>\n",
       "      <td>I was so excited for bath time when I register...</td>\n",
       "      <td>[]</td>\n",
       "      <td>B002LARFLY</td>\n",
       "      <td>B00OLRJET6</td>\n",
       "      <td>AGCI7FAH4GL5FI65HYLKWTMFZ2CQ</td>\n",
       "      <td>2012-10-09 21:42:41</td>\n",
       "      <td>0</td>\n",
       "      <td>False</td>\n",
       "    </tr>\n",
       "  </tbody>\n",
       "</table>\n",
       "</div>"
      ],
      "text/plain": [
       "   rating                                              title  \\\n",
       "0       4        Good buy for preschool naps and home use...   \n",
       "1       5           THEY WORK- and are super cute to boot...   \n",
       "2       1  cute but small and pretty much unusable as a c...   \n",
       "3       5                          Works great perfect size!   \n",
       "4       5                               Cute and Works Great   \n",
       "\n",
       "                                                text images        asin  \\\n",
       "0  I bought two of these for my kids for nap time...     []  B004FM7VOW   \n",
       "1  LOVE THESE! AND THEY WORK!!! I was on the fenc...     []  B01E5E703G   \n",
       "2  cute but small and pretty much unusable as a c...     []  B00F463XV8   \n",
       "3  I have lots of different disposable diaper bag...     []  B0007V644S   \n",
       "4  I was so excited for bath time when I register...     []  B002LARFLY   \n",
       "\n",
       "  parent_asin                       user_id           timestamp  helpful_vote  \\\n",
       "0  B089MS68G8  AGKASBHYZPGTEPO6LWZPVJWB2BVA 2016-08-18 18:52:17             1   \n",
       "1  B01E5E703G  AGKASBHYZPGTEPO6LWZPVJWB2BVA 2016-08-18 17:44:04             1   \n",
       "2  B00F9386Q8  AGKASBHYZPGTEPO6LWZPVJWB2BVA 2016-01-13 02:08:01             0   \n",
       "3  B07RRDX26B  AGCI7FAH4GL5FI65HYLKWTMFZ2CQ 2014-08-25 19:14:11             0   \n",
       "4  B00OLRJET6  AGCI7FAH4GL5FI65HYLKWTMFZ2CQ 2012-10-09 21:42:41             0   \n",
       "\n",
       "   verified_purchase  \n",
       "0               True  \n",
       "1               True  \n",
       "2               True  \n",
       "3               True  \n",
       "4              False  "
      ]
     },
     "execution_count": 4,
     "metadata": {},
     "output_type": "execute_result"
    }
   ],
   "source": [
    "df.head()"
   ]
  },
  {
   "cell_type": "code",
   "execution_count": 5,
   "id": "cfa0a1df",
   "metadata": {},
   "outputs": [
    {
     "data": {
      "text/plain": [
       "asin\n",
       "B00ECHYTBI    28280\n",
       "B075QQ8VZW    17307\n",
       "B001OC5UMQ    12840\n",
       "B07F8HTSKD     8922\n",
       "B0053X62GK     7491\n",
       "              ...  \n",
       "B09BPSN8MC        1\n",
       "B07ZSVR2X7        1\n",
       "B07Z6YYCGS        1\n",
       "B001LK7E8E        1\n",
       "B00LMK7HT4        1\n",
       "Name: count, Length: 296394, dtype: int64"
      ]
     },
     "execution_count": 5,
     "metadata": {},
     "output_type": "execute_result"
    }
   ],
   "source": [
    "df['asin'].value_counts()"
   ]
  },
  {
   "cell_type": "code",
   "execution_count": 6,
   "id": "44f3612c",
   "metadata": {},
   "outputs": [],
   "source": [
    "df = df[df['asin'] == 'B075QQ8VZW']"
   ]
  },
  {
   "cell_type": "code",
   "execution_count": 7,
   "id": "55e08c01",
   "metadata": {},
   "outputs": [
    {
     "data": {
      "text/plain": [
       "(17307, 10)"
      ]
     },
     "execution_count": 7,
     "metadata": {},
     "output_type": "execute_result"
    }
   ],
   "source": [
    "df.shape"
   ]
  },
  {
   "cell_type": "code",
   "execution_count": 8,
   "id": "d0fe86c4",
   "metadata": {},
   "outputs": [
    {
     "data": {
      "text/plain": [
       "rating               0\n",
       "title                0\n",
       "text                 0\n",
       "images               0\n",
       "asin                 0\n",
       "parent_asin          0\n",
       "user_id              0\n",
       "timestamp            0\n",
       "helpful_vote         0\n",
       "verified_purchase    0\n",
       "dtype: int64"
      ]
     },
     "execution_count": 8,
     "metadata": {},
     "output_type": "execute_result"
    }
   ],
   "source": [
    "df.isna().sum()"
   ]
  },
  {
   "cell_type": "code",
   "execution_count": 9,
   "id": "89c67097",
   "metadata": {},
   "outputs": [],
   "source": [
    "df = df.drop(columns=['title','images','parent_asin','user_id','helpful_vote'])"
   ]
  },
  {
   "cell_type": "code",
   "execution_count": 10,
   "id": "ce801140",
   "metadata": {},
   "outputs": [],
   "source": [
    "df = df[df['verified_purchase'] == True]"
   ]
  },
  {
   "cell_type": "code",
   "execution_count": 11,
   "id": "6c5d5857",
   "metadata": {},
   "outputs": [
    {
     "data": {
      "text/plain": [
       "(16857, 5)"
      ]
     },
     "execution_count": 11,
     "metadata": {},
     "output_type": "execute_result"
    }
   ],
   "source": [
    "df.shape"
   ]
  },
  {
   "cell_type": "code",
   "execution_count": 12,
   "id": "43fc3ee9",
   "metadata": {},
   "outputs": [],
   "source": [
    "df['timestamp'] = pd.to_datetime(df['timestamp'])"
   ]
  },
  {
   "cell_type": "code",
   "execution_count": 13,
   "id": "db3ec868",
   "metadata": {},
   "outputs": [
    {
     "name": "stdout",
     "output_type": "stream",
     "text": [
      "<class 'pandas.core.frame.DataFrame'>\n",
      "Index: 16857 entries, 167 to 6028581\n",
      "Data columns (total 5 columns):\n",
      " #   Column             Non-Null Count  Dtype         \n",
      "---  ------             --------------  -----         \n",
      " 0   rating             16857 non-null  int64         \n",
      " 1   text               16857 non-null  object        \n",
      " 2   asin               16857 non-null  object        \n",
      " 3   timestamp          16857 non-null  datetime64[ns]\n",
      " 4   verified_purchase  16857 non-null  bool          \n",
      "dtypes: bool(1), datetime64[ns](1), int64(1), object(2)\n",
      "memory usage: 674.9+ KB\n"
     ]
    }
   ],
   "source": [
    "df.info()"
   ]
  },
  {
   "cell_type": "markdown",
   "id": "17aa63fd",
   "metadata": {},
   "source": [
    "## Performing Vader Sentiment Scoring"
   ]
  },
  {
   "cell_type": "code",
   "execution_count": 14,
   "id": "cc1b1448",
   "metadata": {},
   "outputs": [
    {
     "data": {
      "text/plain": [
       "167        Not sure if it’s worth it if it’s not complete...\n",
       "235                                                   Great!\n",
       "2562       Stores are sold out and this is so easy to use...\n",
       "2656       Waste of money. It varies more than a degree b...\n",
       "3026       Very easy to use, 1 button touch that accurate...\n",
       "                                 ...                        \n",
       "6027308    My toddler had so much fun with it(I am aware ...\n",
       "6027323    Inaccurate readings. Very disappointed in this...\n",
       "6028292    No pierdas tu tiempo ni tu dinero comprando esto!\n",
       "6028415                                          Easy to use\n",
       "6028581    Works great, and it doesn’t have to touch your...\n",
       "Name: text, Length: 16857, dtype: object"
      ]
     },
     "execution_count": 14,
     "metadata": {},
     "output_type": "execute_result"
    }
   ],
   "source": [
    "df['text']"
   ]
  },
  {
   "cell_type": "code",
   "execution_count": 15,
   "id": "f2d73b70",
   "metadata": {},
   "outputs": [
    {
     "name": "stdout",
     "output_type": "stream",
     "text": [
      "<class 'pandas.core.frame.DataFrame'>\n",
      "Index: 16857 entries, 167 to 6028581\n",
      "Data columns (total 5 columns):\n",
      " #   Column             Non-Null Count  Dtype         \n",
      "---  ------             --------------  -----         \n",
      " 0   rating             16857 non-null  int64         \n",
      " 1   text               16857 non-null  object        \n",
      " 2   asin               16857 non-null  object        \n",
      " 3   timestamp          16857 non-null  datetime64[ns]\n",
      " 4   verified_purchase  16857 non-null  bool          \n",
      "dtypes: bool(1), datetime64[ns](1), int64(1), object(2)\n",
      "memory usage: 674.9+ KB\n"
     ]
    }
   ],
   "source": [
    "df.info()"
   ]
  },
  {
   "cell_type": "code",
   "execution_count": 16,
   "id": "2c7dc3de",
   "metadata": {},
   "outputs": [],
   "source": [
    "vader_sentiment = SentimentIntensityAnalyzer()"
   ]
  },
  {
   "cell_type": "code",
   "execution_count": 17,
   "id": "ecd25cd5",
   "metadata": {},
   "outputs": [],
   "source": [
    "example = df['text'].iloc[0]"
   ]
  },
  {
   "cell_type": "code",
   "execution_count": 18,
   "id": "f16b0e6a",
   "metadata": {},
   "outputs": [
    {
     "data": {
      "text/plain": [
       "'Not sure if it’s worth it if it’s not completely accurate'"
      ]
     },
     "execution_count": 18,
     "metadata": {},
     "output_type": "execute_result"
    }
   ],
   "source": [
    "example"
   ]
  },
  {
   "cell_type": "code",
   "execution_count": 19,
   "id": "9d07c021",
   "metadata": {},
   "outputs": [
    {
     "data": {
      "text/plain": [
       "{'neg': 0.153, 'neu': 0.7, 'pos': 0.148, 'compound': -0.016}"
      ]
     },
     "execution_count": 19,
     "metadata": {},
     "output_type": "execute_result"
    }
   ],
   "source": [
    "vader_sentiment.polarity_scores(example)"
   ]
  },
  {
   "cell_type": "code",
   "execution_count": 20,
   "id": "870c321c",
   "metadata": {},
   "outputs": [
    {
     "name": "stderr",
     "output_type": "stream",
     "text": [
      "100%|██████████| 16857/16857 [00:03<00:00, 5087.09it/s]\n"
     ]
    }
   ],
   "source": [
    "vader_data_sentiment = {}\n",
    "\n",
    "for i in tqdm(range(df.shape[0])):\n",
    "    rating = df['rating'].iloc[i]\n",
    "    text = df['text'].iloc[i]\n",
    "    timestamp = df['timestamp'].iloc[i]\n",
    "    \n",
    "    data = vader_sentiment.polarity_scores(text)\n",
    "    neg = data['neg']\n",
    "    neu = data['neu']\n",
    "    pos = data['pos']\n",
    "    \n",
    "    vader_data_sentiment[i] = [rating, text, timestamp, neg, neu, pos]"
   ]
  },
  {
   "cell_type": "code",
   "execution_count": 21,
   "id": "5d685deb",
   "metadata": {},
   "outputs": [
    {
     "name": "stderr",
     "output_type": "stream",
     "text": [
      "100%|██████████| 16857/16857 [00:03<00:00, 5104.81it/s]\n"
     ]
    }
   ],
   "source": [
    "vader_data_sentiment = {}\n",
    "\n",
    "for i in tqdm(range(df.shape[0])):\n",
    "    rating = df['rating'].iloc[i]\n",
    "    text = df['text'].iloc[i]\n",
    "    timestamp = df['timestamp'].iloc[i]\n",
    "    \n",
    "    data = vader_sentiment.polarity_scores(text)\n",
    "    neg = data['neg']\n",
    "    neu = data['neu']\n",
    "    pos = data['pos']\n",
    "    \n",
    "    vader_data_sentiment[i] = [rating, text, timestamp, neg, neu, pos]"
   ]
  },
  {
   "cell_type": "code",
   "execution_count": 22,
   "id": "477bb7f4",
   "metadata": {},
   "outputs": [],
   "source": [
    "vader_df = pd.DataFrame.from_dict(\n",
    "    vader_data_sentiment,\n",
    "    orient='index',\n",
    "    columns=['rating', 'text', 'timestamp', 'neg', 'neu', 'pos']\n",
    ")"
   ]
  },
  {
   "cell_type": "code",
   "execution_count": 23,
   "id": "e2496573",
   "metadata": {},
   "outputs": [],
   "source": [
    "data = dict(sorted(dict(vader_df['rating'].value_counts()).items()))\n",
    "keys = list(data.keys())\n",
    "values = list(data.values())"
   ]
  },
  {
   "cell_type": "markdown",
   "id": "286616d3",
   "metadata": {},
   "source": [
    "### Distribution of the Ratings"
   ]
  },
  {
   "cell_type": "code",
   "execution_count": 24,
   "id": "ee4de9f7",
   "metadata": {},
   "outputs": [
    {
     "data": {
      "image/png": "[encoded data removed]",
      "text/plain": [
       "<Figure size 1000x500 with 1 Axes>"
      ]
     },
     "metadata": {},
     "output_type": "display_data"
    }
   ],
   "source": [
    "plt.figure(figsize = (10,5))\n",
    "plt.bar(keys,values,color = 'orange')\n",
    "plt.title('Distribution of Rating')\n",
    "plt.xlabel('Rating')\n",
    "plt.ylabel('Rating Count')\n",
    "plt.grid(alpha = 0.3)\n",
    "plt.tight_layout()\n"
   ]
  },
  {
   "cell_type": "markdown",
   "id": "3ee1cb87",
   "metadata": {},
   "source": [
    "### Distribution of the Sentiments captured by the Vader"
   ]
  },
  {
   "cell_type": "code",
   "execution_count": 25,
   "id": "6234fb4f",
   "metadata": {},
   "outputs": [],
   "source": [
    "vader_df['label'] = vader_df[['neg', 'neu', 'pos']].idxmax(axis=1)"
   ]
  },
  {
   "cell_type": "code",
   "execution_count": 26,
   "id": "ea1dd84f",
   "metadata": {},
   "outputs": [],
   "source": [
    "neu_score = vader_df[vader_df['label'] == 'neu']\n",
    "pos_score = vader_df[vader_df['label'] == 'pos']\n",
    "neg_score = vader_df[vader_df['label'] == 'neg']"
   ]
  },
  {
   "cell_type": "code",
   "execution_count": 27,
   "id": "028d9426",
   "metadata": {},
   "outputs": [],
   "source": [
    "def get_data(data):\n",
    "    data = dict(sorted(dict(data['rating'].value_counts()).items()))\n",
    "    keys = list(data.keys())\n",
    "    values = list(data.values())\n",
    "    return keys,values\n",
    "\n",
    "neu_score_key , neu_score_value = get_data(neu_score)\n",
    "pos_score_key , pos_score_value = get_data(pos_score)\n",
    "neg_score_key , neg_score_value = get_data(neg_score)"
   ]
  },
  {
   "cell_type": "code",
   "execution_count": 28,
   "id": "6d35c1c3",
   "metadata": {},
   "outputs": [
    {
     "data": {
      "image/png": "[encoded data removed]",
      "text/plain": [
       "<Figure size 1800x500 with 3 Axes>"
      ]
     },
     "metadata": {},
     "output_type": "display_data"
    }
   ],
   "source": [
    "fig , arr = plt.subplots(1,3,figsize = (18,5))\n",
    "\n",
    "arr[0].bar(neu_score_key, neu_score_value, color='gray')\n",
    "arr[0].set_title('Neutral Sentiment by Rating')\n",
    "arr[0].set_xlabel('Rating')\n",
    "arr[0].set_ylabel('Count')\n",
    "arr[0].grid(True, alpha=0.5)\n",
    "\n",
    "arr[1].bar(pos_score_key, pos_score_value, color='green')\n",
    "arr[1].set_title('Positive Sentiment by Rating')\n",
    "arr[1].set_xlabel('Rating')\n",
    "arr[1].set_ylabel('Count')\n",
    "arr[1].grid(True, alpha=0.5)\n",
    "\n",
    "arr[2].bar(neg_score_key, neg_score_value, color='red')\n",
    "arr[2].set_title('Negative Sentiment by Rating')\n",
    "arr[2].set_xlabel('Rating')\n",
    "arr[2].set_ylabel('Count')\n",
    "arr[2].grid(True, alpha=0.3)\n",
    "\n",
    "plt.tight_layout()"
   ]
  },
  {
   "cell_type": "markdown",
   "id": "cb1f3bd8",
   "metadata": {},
   "source": [
    "## Assigning Text Summarizer "
   ]
  },
  {
   "cell_type": "code",
   "execution_count": 29,
   "id": "24b93c52",
   "metadata": {},
   "outputs": [
    {
     "name": "stderr",
     "output_type": "stream",
     "text": [
      "c:\\Users\\Mihir\\anaconda3\\Lib\\site-packages\\transformers\\models\\bart\\configuration_bart.py:176: UserWarning: Please make sure the config includes `forced_bos_token_id=0` in future versions. The config can simply be saved and uploaded again to be fixed.\n",
      "  warnings.warn(\n"
     ]
    }
   ],
   "source": [
    "path = 'saved_model'\n",
    "summarizer = BartForConditionalGeneration.from_pretrained(path)\n",
    "summarizer_tokenizer = BartTokenizer.from_pretrained(path)      "
   ]
  },
  {
   "cell_type": "code",
   "execution_count": 30,
   "id": "438e596a",
   "metadata": {},
   "outputs": [],
   "source": [
    "def summarize_text(text, max_length=200):\n",
    "    word_count = len(text.split())\n",
    "    \n",
    "    if word_count > 100: \n",
    "        max_length = max(50, int(0.5 * word_count))\n",
    "        min_length = max(20, int(0.2 * word_count))\n",
    "        \n",
    "        words = text.split()\n",
    "        trimmed_text = \" \".join(words[:300])\n",
    "\n",
    "        inputs = summarizer_tokenizer(trimmed_text, return_tensors=\"pt\", max_length=1024, truncation=True)\n",
    "        summary_ids = summarizer.generate(\n",
    "            inputs[\"input_ids\"], \n",
    "            max_length=max_length, \n",
    "            min_length=min_length,\n",
    "            num_beams=4, \n",
    "            early_stopping=True\n",
    "        )\n",
    "        summary = summarizer_tokenizer.decode(summary_ids[0], skip_special_tokens=True)\n",
    "        return summary\n",
    "\n",
    "    return text\n"
   ]
  },
  {
   "cell_type": "markdown",
   "id": "d26fb467",
   "metadata": {},
   "source": [
    "### Applying Text Summarizer"
   ]
  },
  {
   "cell_type": "code",
   "execution_count": 31,
   "id": "be9266b1",
   "metadata": {},
   "outputs": [
    {
     "name": "stderr",
     "output_type": "stream",
     "text": [
      "c:\\Users\\Mihir\\anaconda3\\Lib\\site-packages\\transformers\\generation\\utils.py:1581: UserWarning: You have modified the pretrained model configuration to control generation. This is a deprecated strategy to control generation and will be removed in v5. Please use and modify the model generation configuration (see https://huggingface.co/docs/transformers/generation_strategies#default-text-generation-configuration )\n",
      "  warnings.warn(\n"
     ]
    }
   ],
   "source": [
    "df['text'] = df['text'].apply(summarize_text)"
   ]
  },
  {
   "cell_type": "markdown",
   "id": "897c7abf",
   "metadata": {},
   "source": [
    "# Evaluation of RoBERTa sentiment scores to determine whether they can be considered as ground truth."
   ]
  },
  {
   "cell_type": "markdown",
   "id": "c5002f73",
   "metadata": {},
   "source": [
    "### Assigning Sample_structured_data"
   ]
  },
  {
   "cell_type": "code",
   "execution_count": 32,
   "id": "2f473bb8",
   "metadata": {},
   "outputs": [],
   "source": [
    "new_df = pd.read_csv('sentiment_scored.csv')"
   ]
  },
  {
   "cell_type": "code",
   "execution_count": 33,
   "id": "65748e7d",
   "metadata": {},
   "outputs": [],
   "source": [
    "new_df.drop(columns=['Unnamed: 0'],inplace=True)"
   ]
  },
  {
   "cell_type": "code",
   "execution_count": 34,
   "id": "65fec92a",
   "metadata": {},
   "outputs": [],
   "source": [
    "sample_structured_data = []\n",
    "count = 0\n",
    "j = 0\n",
    "\n",
    "while count < 300:\n",
    "    data = new_df['text'].iloc[j]\n",
    "    if len(data) > 100:\n",
    "        sample_structured_data.append([data, 0]) \n",
    "        count += 1\n",
    "    j += 1\n",
    "\n"
   ]
  },
  {
   "cell_type": "code",
   "execution_count": 35,
   "id": "f84355eb",
   "metadata": {},
   "outputs": [],
   "source": [
    "sample_df = pd.DataFrame(sample_structured_data, columns=['text', 'sentiment'])"
   ]
  },
  {
   "cell_type": "code",
   "execution_count": 36,
   "id": "eca660dc",
   "metadata": {},
   "outputs": [],
   "source": [
    "# sample_df.to_csv('sample_df_.csv')"
   ]
  },
  {
   "cell_type": "markdown",
   "id": "0cfd4e87",
   "metadata": {},
   "source": [
    "### Reading The Sample Dataset"
   ]
  },
  {
   "cell_type": "code",
   "execution_count": 37,
   "id": "4edccee8",
   "metadata": {},
   "outputs": [],
   "source": [
    "sample_data = pd.read_csv('sample_df_.csv')"
   ]
  },
  {
   "cell_type": "code",
   "execution_count": 38,
   "id": "61acb0ae",
   "metadata": {},
   "outputs": [
    {
     "data": {
      "text/plain": [
       "RobertaForSequenceClassification(\n",
       "  (roberta): RobertaModel(\n",
       "    (embeddings): RobertaEmbeddings(\n",
       "      (word_embeddings): Embedding(50265, 768, padding_idx=1)\n",
       "      (position_embeddings): Embedding(514, 768, padding_idx=1)\n",
       "      (token_type_embeddings): Embedding(1, 768)\n",
       "      (LayerNorm): LayerNorm((768,), eps=1e-05, elementwise_affine=True)\n",
       "      (dropout): Dropout(p=0.1, inplace=False)\n",
       "    )\n",
       "    (encoder): RobertaEncoder(\n",
       "      (layer): ModuleList(\n",
       "        (0-11): 12 x RobertaLayer(\n",
       "          (attention): RobertaAttention(\n",
       "            (self): RobertaSdpaSelfAttention(\n",
       "              (query): Linear(in_features=768, out_features=768, bias=True)\n",
       "              (key): Linear(in_features=768, out_features=768, bias=True)\n",
       "              (value): Linear(in_features=768, out_features=768, bias=True)\n",
       "              (dropout): Dropout(p=0.1, inplace=False)\n",
       "            )\n",
       "            (output): RobertaSelfOutput(\n",
       "              (dense): Linear(in_features=768, out_features=768, bias=True)\n",
       "              (LayerNorm): LayerNorm((768,), eps=1e-05, elementwise_affine=True)\n",
       "              (dropout): Dropout(p=0.1, inplace=False)\n",
       "            )\n",
       "          )\n",
       "          (intermediate): RobertaIntermediate(\n",
       "            (dense): Linear(in_features=768, out_features=3072, bias=True)\n",
       "            (intermediate_act_fn): GELUActivation()\n",
       "          )\n",
       "          (output): RobertaOutput(\n",
       "            (dense): Linear(in_features=3072, out_features=768, bias=True)\n",
       "            (LayerNorm): LayerNorm((768,), eps=1e-05, elementwise_affine=True)\n",
       "            (dropout): Dropout(p=0.1, inplace=False)\n",
       "          )\n",
       "        )\n",
       "      )\n",
       "    )\n",
       "  )\n",
       "  (classifier): RobertaClassificationHead(\n",
       "    (dense): Linear(in_features=768, out_features=768, bias=True)\n",
       "    (dropout): Dropout(p=0.1, inplace=False)\n",
       "    (out_proj): Linear(in_features=768, out_features=3, bias=True)\n",
       "  )\n",
       ")"
      ]
     },
     "execution_count": 38,
     "metadata": {},
     "output_type": "execute_result"
    }
   ],
   "source": [
    "path = \"Roberta_model\"\n",
    "tokenizer = RobertaTokenizer.from_pretrained(path)\n",
    "model = RobertaForSequenceClassification.from_pretrained(path, num_labels=3) \n",
    "\n",
    "model.eval()"
   ]
  },
  {
   "cell_type": "code",
   "execution_count": 39,
   "id": "f50a433f",
   "metadata": {},
   "outputs": [],
   "source": [
    "def polarity_score(example):\n",
    "\n",
    "    encoded_text = tokenizer(example,return_tensors = 'pt')\n",
    "    output = model(**encoded_text)\n",
    "    scores = output[0][0].detach().numpy()\n",
    "    scores = softmax(scores)\n",
    "    scores_dict = {\n",
    "        'roberta_neg' : scores[0],\n",
    "        'roberta_neu' : scores[1],\n",
    "        'roberta_pos' : scores[2]\n",
    "    }\n",
    "    return scores_dict\n"
   ]
  },
  {
   "cell_type": "code",
   "execution_count": 40,
   "id": "ecbd2118",
   "metadata": {},
   "outputs": [
    {
     "name": "stderr",
     "output_type": "stream",
     "text": [
      "100%|██████████| 300/300 [00:18<00:00, 15.85it/s]\n"
     ]
    }
   ],
   "source": [
    "postive = []\n",
    "negative = []\n",
    "neutral = []\n",
    "\n",
    "for i in tqdm(range(sample_data.shape[0])):\n",
    "    index = i\n",
    "    text = sample_data['text'].iloc[i]\n",
    "        \n",
    "    score = polarity_score(text)\n",
    "    roberta_neg = score['roberta_neg']\n",
    "    roberta_neu = score['roberta_neu']\n",
    "    roberta_pos = score['roberta_pos']\n",
    "\n",
    "    postive.append(roberta_pos)\n",
    "    negative.append(roberta_neg)\n",
    "    neutral.append(roberta_neu)"
   ]
  },
  {
   "cell_type": "code",
   "execution_count": 41,
   "id": "c1d50e77",
   "metadata": {},
   "outputs": [],
   "source": [
    "sample_data['positive'] = postive\n",
    "sample_data['negative'] = negative\n",
    "sample_data['neutral'] = neutral"
   ]
  },
  {
   "cell_type": "code",
   "execution_count": 42,
   "id": "b125e226",
   "metadata": {},
   "outputs": [
    {
     "data": {
      "text/html": [
       "<div>\n",
       "<style scoped>\n",
       "    .dataframe tbody tr th:only-of-type {\n",
       "        vertical-align: middle;\n",
       "    }\n",
       "\n",
       "    .dataframe tbody tr th {\n",
       "        vertical-align: top;\n",
       "    }\n",
       "\n",
       "    .dataframe thead th {\n",
       "        text-align: right;\n",
       "    }\n",
       "</style>\n",
       "<table border=\"1\" class=\"dataframe\">\n",
       "  <thead>\n",
       "    <tr style=\"text-align: right;\">\n",
       "      <th></th>\n",
       "      <th>Unnamed: 0</th>\n",
       "      <th>text</th>\n",
       "      <th>sentiment_score</th>\n",
       "      <th>positive</th>\n",
       "      <th>negative</th>\n",
       "      <th>neutral</th>\n",
       "    </tr>\n",
       "  </thead>\n",
       "  <tbody>\n",
       "    <tr>\n",
       "      <th>0</th>\n",
       "      <td>0</td>\n",
       "      <td>Best feature of this is being able to use it o...</td>\n",
       "      <td>1</td>\n",
       "      <td>0.976770</td>\n",
       "      <td>0.002939</td>\n",
       "      <td>0.020291</td>\n",
       "    </tr>\n",
       "    <tr>\n",
       "      <th>1</th>\n",
       "      <td>1</td>\n",
       "      <td>Always between 97.3 and 97.8. Tested with 2 ot...</td>\n",
       "      <td>-1</td>\n",
       "      <td>0.014102</td>\n",
       "      <td>0.852254</td>\n",
       "      <td>0.133644</td>\n",
       "    </tr>\n",
       "    <tr>\n",
       "      <th>2</th>\n",
       "      <td>2</td>\n",
       "      <td>I can't say if this is the one at fault, might...</td>\n",
       "      <td>0</td>\n",
       "      <td>0.036534</td>\n",
       "      <td>0.464497</td>\n",
       "      <td>0.498969</td>\n",
       "    </tr>\n",
       "    <tr>\n",
       "      <th>3</th>\n",
       "      <td>3</td>\n",
       "      <td>The product is very easy to use. Any age group...</td>\n",
       "      <td>1</td>\n",
       "      <td>0.956808</td>\n",
       "      <td>0.002442</td>\n",
       "      <td>0.040750</td>\n",
       "    </tr>\n",
       "    <tr>\n",
       "      <th>4</th>\n",
       "      <td>4</td>\n",
       "      <td>Got one for each family member. Good design an...</td>\n",
       "      <td>1</td>\n",
       "      <td>0.889818</td>\n",
       "      <td>0.003166</td>\n",
       "      <td>0.107016</td>\n",
       "    </tr>\n",
       "  </tbody>\n",
       "</table>\n",
       "</div>"
      ],
      "text/plain": [
       "   Unnamed: 0                                               text  \\\n",
       "0           0  Best feature of this is being able to use it o...   \n",
       "1           1  Always between 97.3 and 97.8. Tested with 2 ot...   \n",
       "2           2  I can't say if this is the one at fault, might...   \n",
       "3           3  The product is very easy to use. Any age group...   \n",
       "4           4  Got one for each family member. Good design an...   \n",
       "\n",
       "   sentiment_score  positive  negative   neutral  \n",
       "0                1  0.976770  0.002939  0.020291  \n",
       "1               -1  0.014102  0.852254  0.133644  \n",
       "2                0  0.036534  0.464497  0.498969  \n",
       "3                1  0.956808  0.002442  0.040750  \n",
       "4                1  0.889818  0.003166  0.107016  "
      ]
     },
     "execution_count": 42,
     "metadata": {},
     "output_type": "execute_result"
    }
   ],
   "source": [
    "sample_data.head()"
   ]
  },
  {
   "cell_type": "code",
   "execution_count": 43,
   "id": "980eab1b",
   "metadata": {},
   "outputs": [],
   "source": [
    "sample_data['roberta_label'] = sample_data[['negative', 'neutral', 'positive']].idxmax(axis=1)"
   ]
  },
  {
   "cell_type": "code",
   "execution_count": 44,
   "id": "904be6d1",
   "metadata": {},
   "outputs": [],
   "source": [
    "map_ = {\n",
    "    'positive' : 1,\n",
    "    'negative' : -1,\n",
    "    'neutral' : 0\n",
    "}\n",
    "\n",
    "sample_data['roberta_label'] = sample_data['roberta_label'].map(map_)"
   ]
  },
  {
   "cell_type": "code",
   "execution_count": 45,
   "id": "7c4f658f",
   "metadata": {},
   "outputs": [
    {
     "data": {
      "text/html": [
       "<div>\n",
       "<style scoped>\n",
       "    .dataframe tbody tr th:only-of-type {\n",
       "        vertical-align: middle;\n",
       "    }\n",
       "\n",
       "    .dataframe tbody tr th {\n",
       "        vertical-align: top;\n",
       "    }\n",
       "\n",
       "    .dataframe thead th {\n",
       "        text-align: right;\n",
       "    }\n",
       "</style>\n",
       "<table border=\"1\" class=\"dataframe\">\n",
       "  <thead>\n",
       "    <tr style=\"text-align: right;\">\n",
       "      <th></th>\n",
       "      <th>Unnamed: 0</th>\n",
       "      <th>text</th>\n",
       "      <th>sentiment_score</th>\n",
       "      <th>positive</th>\n",
       "      <th>negative</th>\n",
       "      <th>neutral</th>\n",
       "      <th>roberta_label</th>\n",
       "    </tr>\n",
       "  </thead>\n",
       "  <tbody>\n",
       "    <tr>\n",
       "      <th>0</th>\n",
       "      <td>0</td>\n",
       "      <td>Best feature of this is being able to use it o...</td>\n",
       "      <td>1</td>\n",
       "      <td>0.976770</td>\n",
       "      <td>0.002939</td>\n",
       "      <td>0.020291</td>\n",
       "      <td>1</td>\n",
       "    </tr>\n",
       "    <tr>\n",
       "      <th>1</th>\n",
       "      <td>1</td>\n",
       "      <td>Always between 97.3 and 97.8. Tested with 2 ot...</td>\n",
       "      <td>-1</td>\n",
       "      <td>0.014102</td>\n",
       "      <td>0.852254</td>\n",
       "      <td>0.133644</td>\n",
       "      <td>-1</td>\n",
       "    </tr>\n",
       "    <tr>\n",
       "      <th>2</th>\n",
       "      <td>2</td>\n",
       "      <td>I can't say if this is the one at fault, might...</td>\n",
       "      <td>0</td>\n",
       "      <td>0.036534</td>\n",
       "      <td>0.464497</td>\n",
       "      <td>0.498969</td>\n",
       "      <td>0</td>\n",
       "    </tr>\n",
       "    <tr>\n",
       "      <th>3</th>\n",
       "      <td>3</td>\n",
       "      <td>The product is very easy to use. Any age group...</td>\n",
       "      <td>1</td>\n",
       "      <td>0.956808</td>\n",
       "      <td>0.002442</td>\n",
       "      <td>0.040750</td>\n",
       "      <td>1</td>\n",
       "    </tr>\n",
       "    <tr>\n",
       "      <th>4</th>\n",
       "      <td>4</td>\n",
       "      <td>Got one for each family member. Good design an...</td>\n",
       "      <td>1</td>\n",
       "      <td>0.889818</td>\n",
       "      <td>0.003166</td>\n",
       "      <td>0.107016</td>\n",
       "      <td>1</td>\n",
       "    </tr>\n",
       "  </tbody>\n",
       "</table>\n",
       "</div>"
      ],
      "text/plain": [
       "   Unnamed: 0                                               text  \\\n",
       "0           0  Best feature of this is being able to use it o...   \n",
       "1           1  Always between 97.3 and 97.8. Tested with 2 ot...   \n",
       "2           2  I can't say if this is the one at fault, might...   \n",
       "3           3  The product is very easy to use. Any age group...   \n",
       "4           4  Got one for each family member. Good design an...   \n",
       "\n",
       "   sentiment_score  positive  negative   neutral  roberta_label  \n",
       "0                1  0.976770  0.002939  0.020291              1  \n",
       "1               -1  0.014102  0.852254  0.133644             -1  \n",
       "2                0  0.036534  0.464497  0.498969              0  \n",
       "3                1  0.956808  0.002442  0.040750              1  \n",
       "4                1  0.889818  0.003166  0.107016              1  "
      ]
     },
     "execution_count": 45,
     "metadata": {},
     "output_type": "execute_result"
    }
   ],
   "source": [
    "sample_data.head()"
   ]
  },
  {
   "cell_type": "code",
   "execution_count": 46,
   "id": "d1f87b0f",
   "metadata": {},
   "outputs": [
    {
     "name": "stdout",
     "output_type": "stream",
     "text": [
      "f1-score of the sample labeled data is 0.72\n"
     ]
    }
   ],
   "source": [
    "score = f1_score(sample_data['sentiment_score'], sample_data['roberta_label'], average='weighted')\n",
    "print(f'f1-score of the sample labeled data is {score:.2f}')"
   ]
  },
  {
   "cell_type": "markdown",
   "id": "f157f93c",
   "metadata": {},
   "source": [
    "### The F1 score indicates that we cannot consider RoBERTa as the ground truth, meaning fine-tuning the transformer is important."
   ]
  },
  {
   "cell_type": "markdown",
   "id": "e74232e1",
   "metadata": {},
   "source": [
    "## Fine-tuning the model"
   ]
  },
  {
   "cell_type": "code",
   "execution_count": 47,
   "id": "134a58b0",
   "metadata": {},
   "outputs": [
    {
     "name": "stdout",
     "output_type": "stream",
     "text": [
      "WARNING:tensorflow:From C:\\Users\\Mihir\\AppData\\Roaming\\Python\\Python311\\site-packages\\tf_keras\\src\\backend.py:873: The name tf.get_default_graph is deprecated. Please use tf.compat.v1.get_default_graph instead.\n",
      "\n"
     ]
    },
    {
     "name": "stderr",
     "output_type": "stream",
     "text": [
      "All PyTorch model weights were used when initializing TFRobertaForSequenceClassification.\n",
      "\n",
      "All the weights of TFRobertaForSequenceClassification were initialized from the PyTorch model.\n",
      "If your task is similar to the task the model of the checkpoint was trained on, you can already use TFRobertaForSequenceClassification for predictions without further training.\n"
     ]
    }
   ],
   "source": [
    "model = TFRobertaForSequenceClassification.from_pretrained(path, num_labels=3)"
   ]
  },
  {
   "cell_type": "markdown",
   "id": "bf30bab0",
   "metadata": {},
   "source": [
    "##  Prepare the Data"
   ]
  },
  {
   "cell_type": "code",
   "execution_count": 48,
   "id": "855056d6",
   "metadata": {},
   "outputs": [],
   "source": [
    "sample_data = sample_data.drop(columns=['Unnamed: 0'])"
   ]
  },
  {
   "cell_type": "code",
   "execution_count": 49,
   "id": "f03692fe",
   "metadata": {},
   "outputs": [],
   "source": [
    "texts = sample_data['text'].tolist()\n",
    "labels = sample_data['sentiment_score'].map({-1: 0, 0: 1, 1: 2}).tolist()\n",
    "\n",
    "train_texts, val_texts, train_labels, val_labels = train_test_split(texts, labels, test_size=0.2)"
   ]
  },
  {
   "cell_type": "code",
   "execution_count": 50,
   "id": "8d5b46d8",
   "metadata": {},
   "outputs": [
    {
     "name": "stderr",
     "output_type": "stream",
     "text": [
      "Asking to truncate to max_length but no maximum length is provided and the model has no predefined maximum length. Default to no truncation.\n"
     ]
    }
   ],
   "source": [
    "train_encodings = tokenizer(train_texts, truncation=True, padding=True)\n",
    "val_encodings = tokenizer(val_texts, truncation=True, padding=True)"
   ]
  },
  {
   "cell_type": "code",
   "execution_count": 51,
   "id": "2f341a49",
   "metadata": {},
   "outputs": [],
   "source": [
    "train_dataset = tf.data.Dataset.from_tensor_slices((\n",
    "    dict(train_encodings),\n",
    "    train_labels\n",
    ")).batch(16)"
   ]
  },
  {
   "cell_type": "code",
   "execution_count": 52,
   "id": "28779d07",
   "metadata": {},
   "outputs": [],
   "source": [
    "\n",
    "val_dataset = tf.data.Dataset.from_tensor_slices((\n",
    "    dict(val_encodings),\n",
    "    val_labels\n",
    ")).batch(16)"
   ]
  },
  {
   "cell_type": "markdown",
   "id": "0c0d691a",
   "metadata": {},
   "source": [
    "## Compile and Train the Model "
   ]
  },
  {
   "cell_type": "code",
   "execution_count": 53,
   "id": "f8a02d88",
   "metadata": {},
   "outputs": [],
   "source": [
    "early_stopping = tf.keras.callbacks.EarlyStopping(\n",
    "     monitor='val_accuracy', \n",
    "    patience=2,           \n",
    "    mode='max',             \n",
    "    restore_best_weights=True\n",
    ")"
   ]
  },
  {
   "cell_type": "code",
   "execution_count": 54,
   "id": "46d7f207",
   "metadata": {},
   "outputs": [
    {
     "name": "stdout",
     "output_type": "stream",
     "text": [
      "Epoch 1/10\n",
      "WARNING:tensorflow:From C:\\Users\\Mihir\\AppData\\Roaming\\Python\\Python311\\site-packages\\tf_keras\\src\\utils\\tf_utils.py:492: The name tf.ragged.RaggedTensorValue is deprecated. Please use tf.compat.v1.ragged.RaggedTensorValue instead.\n",
      "\n",
      "WARNING:tensorflow:From C:\\Users\\Mihir\\AppData\\Roaming\\Python\\Python311\\site-packages\\tf_keras\\src\\engine\\base_layer_utils.py:384: The name tf.executing_eagerly_outside_functions is deprecated. Please use tf.compat.v1.executing_eagerly_outside_functions instead.\n",
      "\n",
      "15/15 [==============================] - 101s 4s/step - loss: 0.7534 - accuracy: 0.7708 - val_loss: 0.5257 - val_accuracy: 0.8000\n",
      "Epoch 2/10\n",
      "15/15 [==============================] - 59s 4s/step - loss: 0.4259 - accuracy: 0.8333 - val_loss: 0.4997 - val_accuracy: 0.8000\n",
      "Epoch 3/10\n",
      "15/15 [==============================] - 69s 5s/step - loss: 0.3445 - accuracy: 0.8625 - val_loss: 0.5100 - val_accuracy: 0.7833\n"
     ]
    },
    {
     "data": {
      "text/plain": [
       "<tf_keras.src.callbacks.History at 0x13d2d153850>"
      ]
     },
     "execution_count": 54,
     "metadata": {},
     "output_type": "execute_result"
    }
   ],
   "source": [
    "num_train_steps = len(train_dataset) * 3 \n",
    "optimizer, schedule = create_optimizer(init_lr=2e-5, num_warmup_steps=0, num_train_steps=num_train_steps)\n",
    "\n",
    "model.compile(optimizer=optimizer, \n",
    "              loss=tf.keras.losses.SparseCategoricalCrossentropy(from_logits=True), \n",
    "              metrics=['accuracy'])\n",
    "\n",
    "model.fit(train_dataset, validation_data=val_dataset, epochs=10,callbacks=early_stopping)"
   ]
  },
  {
   "cell_type": "markdown",
   "id": "9dee6f16",
   "metadata": {},
   "source": [
    "## Evaluation and Save"
   ]
  },
  {
   "cell_type": "code",
   "execution_count": 55,
   "id": "65fdd082",
   "metadata": {},
   "outputs": [
    {
     "data": {
      "text/plain": [
       "('roberta_finetuned_tf\\\\tokenizer_config.json',\n",
       " 'roberta_finetuned_tf\\\\special_tokens_map.json',\n",
       " 'roberta_finetuned_tf\\\\vocab.json',\n",
       " 'roberta_finetuned_tf\\\\merges.txt',\n",
       " 'roberta_finetuned_tf\\\\added_tokens.json')"
      ]
     },
     "execution_count": 55,
     "metadata": {},
     "output_type": "execute_result"
    }
   ],
   "source": [
    "model.save_pretrained(\"roberta_finetuned_tf\")\n",
    "tokenizer.save_pretrained(\"roberta_finetuned_tf\")"
   ]
  },
  {
   "cell_type": "code",
   "execution_count": 56,
   "id": "dc647f61",
   "metadata": {},
   "outputs": [
    {
     "name": "stderr",
     "output_type": "stream",
     "text": [
      "All model checkpoint layers were used when initializing TFRobertaForSequenceClassification.\n",
      "\n",
      "All the layers of TFRobertaForSequenceClassification were initialized from the model checkpoint at roberta_finetuned_tf.\n",
      "If your task is similar to the task the model of the checkpoint was trained on, you can already use TFRobertaForSequenceClassification for predictions without further training.\n"
     ]
    }
   ],
   "source": [
    "model = TFRobertaForSequenceClassification.from_pretrained(\"roberta_finetuned_tf\")\n",
    "tokenizer = RobertaTokenizerFast.from_pretrained(\"roberta_finetuned_tf\")"
   ]
  },
  {
   "cell_type": "code",
   "execution_count": 64,
   "id": "116e0d27",
   "metadata": {},
   "outputs": [],
   "source": [
    "def polarity_score(example):\n",
    "    encoded_text = tokenizer(example, return_tensors='tf', truncation=True, padding=True)\n",
    "    output = model(**encoded_text)\n",
    "    scores = output.logits.numpy()[0]\n",
    "    scores = softmax(scores)\n",
    "\n",
    "    return {\n",
    "        'roberta_neg': float(scores[0]),\n",
    "        'roberta_neu': float(scores[1]),\n",
    "        'roberta_pos': float(scores[2])\n",
    "    }"
   ]
  },
  {
   "cell_type": "markdown",
   "id": "73d5d85e",
   "metadata": {},
   "source": [
    "### Performing RoBERTa To Assign Sentiments"
   ]
  },
  {
   "cell_type": "code",
   "execution_count": 58,
   "id": "26822d2e",
   "metadata": {},
   "outputs": [
    {
     "name": "stderr",
     "output_type": "stream",
     "text": [
      "  0%|          | 0/16857 [00:00<?, ?it/s]Asking to truncate to max_length but no maximum length is provided and the model has no predefined maximum length. Default to no truncation.\n",
      "100%|██████████| 16857/16857 [55:40<00:00,  5.05it/s] \n"
     ]
    }
   ],
   "source": [
    "result = {}\n",
    "\n",
    "for i in tqdm(range(df.shape[0])):\n",
    "    index = i\n",
    "    rating = df['rating'].iloc[i]\n",
    "    text = df['text'].iloc[i]\n",
    "    timestamp = df['timestamp'].iloc[i]\n",
    "        \n",
    "    score = polarity_score(text)\n",
    "    roberta_neg = score['roberta_neg']\n",
    "    roberta_neu = score['roberta_neu']\n",
    "    roberta_pos = score['roberta_pos']\n",
    "\n",
    "    result[index] = [rating,text,timestamp,roberta_neg,roberta_neu,roberta_pos]"
   ]
  },
  {
   "cell_type": "code",
   "execution_count": 59,
   "id": "055f7536",
   "metadata": {},
   "outputs": [],
   "source": [
    "new_df = pd.DataFrame.from_dict(\n",
    "    result,\n",
    "    orient='index',\n",
    "    columns=['rating', 'text', 'timestamp', 'rob_neg', 'rob_neu', 'rob_pos']\n",
    ")"
   ]
  },
  {
   "cell_type": "code",
   "execution_count": 60,
   "id": "8459263c",
   "metadata": {},
   "outputs": [],
   "source": [
    "new_df.to_csv('sentiment_scored_.csv')"
   ]
  },
  {
   "cell_type": "markdown",
   "id": "d5aa0112",
   "metadata": {},
   "source": [
    "## Finding The Improvement of the Model"
   ]
  },
  {
   "cell_type": "code",
   "execution_count": 61,
   "id": "720dcac9",
   "metadata": {},
   "outputs": [],
   "source": [
    "new_sample_data = pd.read_csv('sample_df_.csv')"
   ]
  },
  {
   "cell_type": "code",
   "execution_count": 65,
   "id": "403e2bee",
   "metadata": {},
   "outputs": [
    {
     "name": "stderr",
     "output_type": "stream",
     "text": [
      "100%|██████████| 300/300 [01:04<00:00,  4.67it/s]\n"
     ]
    }
   ],
   "source": [
    "postive = []\n",
    "negative = []\n",
    "neutral = []\n",
    "\n",
    "for i in tqdm(range(sample_data.shape[0])):\n",
    "    index = i\n",
    "    text = sample_data['text'].iloc[i]\n",
    "        \n",
    "    score = polarity_score(text)\n",
    "    roberta_neg = score['roberta_neg']\n",
    "    roberta_neu = score['roberta_neu']\n",
    "    roberta_pos = score['roberta_pos']\n",
    "\n",
    "    postive.append(roberta_pos)\n",
    "    negative.append(roberta_neg)\n",
    "    neutral.append(roberta_neu)"
   ]
  },
  {
   "cell_type": "code",
   "execution_count": 66,
   "id": "0ce224fb",
   "metadata": {},
   "outputs": [],
   "source": [
    "new_sample_data['positive'] = postive\n",
    "new_sample_data['negative'] = negative\n",
    "new_sample_data['neutral'] = neutral"
   ]
  },
  {
   "cell_type": "code",
   "execution_count": 67,
   "id": "d816edf0",
   "metadata": {},
   "outputs": [],
   "source": [
    "new_sample_data['roberta_label'] = new_sample_data[['negative', 'neutral', 'positive']].idxmax(axis=1)"
   ]
  },
  {
   "cell_type": "code",
   "execution_count": 68,
   "id": "9cc3e19f",
   "metadata": {},
   "outputs": [],
   "source": [
    "map_ = {\n",
    "    'positive' : 1,\n",
    "    'negative' : -1,\n",
    "    'neutral' : 0\n",
    "}\n",
    "\n",
    "new_sample_data['roberta_label'] = new_sample_data['roberta_label'].map(map_)"
   ]
  },
  {
   "cell_type": "code",
   "execution_count": 69,
   "id": "9609454a",
   "metadata": {},
   "outputs": [
    {
     "data": {
      "text/html": [
       "<div>\n",
       "<style scoped>\n",
       "    .dataframe tbody tr th:only-of-type {\n",
       "        vertical-align: middle;\n",
       "    }\n",
       "\n",
       "    .dataframe tbody tr th {\n",
       "        vertical-align: top;\n",
       "    }\n",
       "\n",
       "    .dataframe thead th {\n",
       "        text-align: right;\n",
       "    }\n",
       "</style>\n",
       "<table border=\"1\" class=\"dataframe\">\n",
       "  <thead>\n",
       "    <tr style=\"text-align: right;\">\n",
       "      <th></th>\n",
       "      <th>Unnamed: 0</th>\n",
       "      <th>text</th>\n",
       "      <th>sentiment_score</th>\n",
       "      <th>positive</th>\n",
       "      <th>negative</th>\n",
       "      <th>neutral</th>\n",
       "      <th>roberta_label</th>\n",
       "    </tr>\n",
       "  </thead>\n",
       "  <tbody>\n",
       "    <tr>\n",
       "      <th>0</th>\n",
       "      <td>0</td>\n",
       "      <td>Best feature of this is being able to use it o...</td>\n",
       "      <td>1</td>\n",
       "      <td>0.965865</td>\n",
       "      <td>0.018217</td>\n",
       "      <td>0.015918</td>\n",
       "      <td>1</td>\n",
       "    </tr>\n",
       "    <tr>\n",
       "      <th>1</th>\n",
       "      <td>1</td>\n",
       "      <td>Always between 97.3 and 97.8. Tested with 2 ot...</td>\n",
       "      <td>-1</td>\n",
       "      <td>0.421364</td>\n",
       "      <td>0.279640</td>\n",
       "      <td>0.298995</td>\n",
       "      <td>1</td>\n",
       "    </tr>\n",
       "    <tr>\n",
       "      <th>2</th>\n",
       "      <td>2</td>\n",
       "      <td>I can't say if this is the one at fault, might...</td>\n",
       "      <td>0</td>\n",
       "      <td>0.457680</td>\n",
       "      <td>0.177604</td>\n",
       "      <td>0.364716</td>\n",
       "      <td>1</td>\n",
       "    </tr>\n",
       "    <tr>\n",
       "      <th>3</th>\n",
       "      <td>3</td>\n",
       "      <td>The product is very easy to use. Any age group...</td>\n",
       "      <td>1</td>\n",
       "      <td>0.966069</td>\n",
       "      <td>0.015890</td>\n",
       "      <td>0.018041</td>\n",
       "      <td>1</td>\n",
       "    </tr>\n",
       "    <tr>\n",
       "      <th>4</th>\n",
       "      <td>4</td>\n",
       "      <td>Got one for each family member. Good design an...</td>\n",
       "      <td>1</td>\n",
       "      <td>0.961092</td>\n",
       "      <td>0.014131</td>\n",
       "      <td>0.024777</td>\n",
       "      <td>1</td>\n",
       "    </tr>\n",
       "  </tbody>\n",
       "</table>\n",
       "</div>"
      ],
      "text/plain": [
       "   Unnamed: 0                                               text  \\\n",
       "0           0  Best feature of this is being able to use it o...   \n",
       "1           1  Always between 97.3 and 97.8. Tested with 2 ot...   \n",
       "2           2  I can't say if this is the one at fault, might...   \n",
       "3           3  The product is very easy to use. Any age group...   \n",
       "4           4  Got one for each family member. Good design an...   \n",
       "\n",
       "   sentiment_score  positive  negative   neutral  roberta_label  \n",
       "0                1  0.965865  0.018217  0.015918              1  \n",
       "1               -1  0.421364  0.279640  0.298995              1  \n",
       "2                0  0.457680  0.177604  0.364716              1  \n",
       "3                1  0.966069  0.015890  0.018041              1  \n",
       "4                1  0.961092  0.014131  0.024777              1  "
      ]
     },
     "execution_count": 69,
     "metadata": {},
     "output_type": "execute_result"
    }
   ],
   "source": [
    "new_sample_data.head()"
   ]
  },
  {
   "cell_type": "code",
   "execution_count": 70,
   "id": "9a6aa73f",
   "metadata": {},
   "outputs": [
    {
     "name": "stdout",
     "output_type": "stream",
     "text": [
      "f1-score of the new sample labeled data is 0.75\n"
     ]
    }
   ],
   "source": [
    "new_score = f1_score(new_sample_data['sentiment_score'], new_sample_data['roberta_label'], average='weighted')\n",
    "print(f'f1-score of the new sample labeled data is {new_score:.2f}')"
   ]
  },
  {
   "cell_type": "markdown",
   "id": "cc0e04f1",
   "metadata": {},
   "source": [
    "### As we can see we have improvement in out roBERTa model"
   ]
  }
 ],
 "metadata": {
  "kernelspec": {
   "display_name": "base",
   "language": "python",
   "name": "python3"
  },
  "language_info": {
   "codemirror_mode": {
    "name": "ipython",
    "version": 3
   },
   "file_extension": ".py",
   "mimetype": "text/x-python",
   "name": "python",
   "nbconvert_exporter": "python",
   "pygments_lexer": "ipython3",
   "version": "3.11.9"
  }
 },
 "nbformat": 4,
 "nbformat_minor": 5
}

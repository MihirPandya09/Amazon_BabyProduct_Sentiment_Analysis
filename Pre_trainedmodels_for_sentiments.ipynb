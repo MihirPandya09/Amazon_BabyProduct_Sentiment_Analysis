{
 "cells": [
  {
   "cell_type": "code",
   "execution_count": 13,
   "id": "21d52ecf",
   "metadata": {},
   "outputs": [],
   "source": [
    "import pandas as pd\n",
    "import numpy as np\n",
    "import matplotlib.pyplot as plt\n",
    "from nltk.sentiment import SentimentIntensityAnalyzer\n",
    "from tqdm import tqdm\n",
    "import torch\n",
    "from scipy.special import softmax\n",
    "from transformers import RobertaTokenizer, RobertaForSequenceClassification\n",
    "from transformers import BartForConditionalGeneration, BartTokenizer"
   ]
  },
  {
   "cell_type": "code",
   "execution_count": 14,
   "id": "05990c0d",
   "metadata": {},
   "outputs": [
    {
     "name": "stdout",
     "output_type": "stream",
     "text": [
      "Number of GPU:  1\n",
      "GPU Name:  NVIDIA GeForce RTX 3050 6GB Laptop GPU\n",
      "Using device: cuda\n"
     ]
    }
   ],
   "source": [
    "print(\"Number of GPU: \", torch.cuda.device_count())\n",
    "print(\"GPU Name: \", torch.cuda.get_device_name())\n",
    "\n",
    "\n",
    "device = torch.device('cuda' if torch.cuda.is_available() else 'cpu')\n",
    "print('Using device:', device)"
   ]
  },
  {
   "cell_type": "code",
   "execution_count": 15,
   "id": "2cacd2d1",
   "metadata": {},
   "outputs": [],
   "source": [
    "df = pd.read_json('Baby_Products.jsonl',lines = True)"
   ]
  },
  {
   "cell_type": "code",
   "execution_count": 16,
   "id": "06e6b5bd",
   "metadata": {},
   "outputs": [
    {
     "data": {
      "text/html": [
       "<div>\n",
       "<style scoped>\n",
       "    .dataframe tbody tr th:only-of-type {\n",
       "        vertical-align: middle;\n",
       "    }\n",
       "\n",
       "    .dataframe tbody tr th {\n",
       "        vertical-align: top;\n",
       "    }\n",
       "\n",
       "    .dataframe thead th {\n",
       "        text-align: right;\n",
       "    }\n",
       "</style>\n",
       "<table border=\"1\" class=\"dataframe\">\n",
       "  <thead>\n",
       "    <tr style=\"text-align: right;\">\n",
       "      <th></th>\n",
       "      <th>rating</th>\n",
       "      <th>title</th>\n",
       "      <th>text</th>\n",
       "      <th>images</th>\n",
       "      <th>asin</th>\n",
       "      <th>parent_asin</th>\n",
       "      <th>user_id</th>\n",
       "      <th>timestamp</th>\n",
       "      <th>helpful_vote</th>\n",
       "      <th>verified_purchase</th>\n",
       "    </tr>\n",
       "  </thead>\n",
       "  <tbody>\n",
       "    <tr>\n",
       "      <th>0</th>\n",
       "      <td>4</td>\n",
       "      <td>Good buy for preschool naps and home use...</td>\n",
       "      <td>I bought two of these for my kids for nap time...</td>\n",
       "      <td>[]</td>\n",
       "      <td>B004FM7VOW</td>\n",
       "      <td>B089MS68G8</td>\n",
       "      <td>AGKASBHYZPGTEPO6LWZPVJWB2BVA</td>\n",
       "      <td>2016-08-18 18:52:17</td>\n",
       "      <td>1</td>\n",
       "      <td>True</td>\n",
       "    </tr>\n",
       "    <tr>\n",
       "      <th>1</th>\n",
       "      <td>5</td>\n",
       "      <td>THEY WORK- and are super cute to boot...</td>\n",
       "      <td>LOVE THESE! AND THEY WORK!!! I was on the fenc...</td>\n",
       "      <td>[]</td>\n",
       "      <td>B01E5E703G</td>\n",
       "      <td>B01E5E703G</td>\n",
       "      <td>AGKASBHYZPGTEPO6LWZPVJWB2BVA</td>\n",
       "      <td>2016-08-18 17:44:04</td>\n",
       "      <td>1</td>\n",
       "      <td>True</td>\n",
       "    </tr>\n",
       "    <tr>\n",
       "      <th>2</th>\n",
       "      <td>1</td>\n",
       "      <td>cute but small and pretty much unusable as a c...</td>\n",
       "      <td>cute but small and pretty much unusable as a c...</td>\n",
       "      <td>[]</td>\n",
       "      <td>B00F463XV8</td>\n",
       "      <td>B00F9386Q8</td>\n",
       "      <td>AGKASBHYZPGTEPO6LWZPVJWB2BVA</td>\n",
       "      <td>2016-01-13 02:08:01</td>\n",
       "      <td>0</td>\n",
       "      <td>True</td>\n",
       "    </tr>\n",
       "    <tr>\n",
       "      <th>3</th>\n",
       "      <td>5</td>\n",
       "      <td>Works great perfect size!</td>\n",
       "      <td>I have lots of different disposable diaper bag...</td>\n",
       "      <td>[]</td>\n",
       "      <td>B0007V644S</td>\n",
       "      <td>B07RRDX26B</td>\n",
       "      <td>AGCI7FAH4GL5FI65HYLKWTMFZ2CQ</td>\n",
       "      <td>2014-08-25 19:14:11</td>\n",
       "      <td>0</td>\n",
       "      <td>True</td>\n",
       "    </tr>\n",
       "    <tr>\n",
       "      <th>4</th>\n",
       "      <td>5</td>\n",
       "      <td>Cute and Works Great</td>\n",
       "      <td>I was so excited for bath time when I register...</td>\n",
       "      <td>[]</td>\n",
       "      <td>B002LARFLY</td>\n",
       "      <td>B00OLRJET6</td>\n",
       "      <td>AGCI7FAH4GL5FI65HYLKWTMFZ2CQ</td>\n",
       "      <td>2012-10-09 21:42:41</td>\n",
       "      <td>0</td>\n",
       "      <td>False</td>\n",
       "    </tr>\n",
       "  </tbody>\n",
       "</table>\n",
       "</div>"
      ],
      "text/plain": [
       "   rating                                              title  \\\n",
       "0       4        Good buy for preschool naps and home use...   \n",
       "1       5           THEY WORK- and are super cute to boot...   \n",
       "2       1  cute but small and pretty much unusable as a c...   \n",
       "3       5                          Works great perfect size!   \n",
       "4       5                               Cute and Works Great   \n",
       "\n",
       "                                                text images        asin  \\\n",
       "0  I bought two of these for my kids for nap time...     []  B004FM7VOW   \n",
       "1  LOVE THESE! AND THEY WORK!!! I was on the fenc...     []  B01E5E703G   \n",
       "2  cute but small and pretty much unusable as a c...     []  B00F463XV8   \n",
       "3  I have lots of different disposable diaper bag...     []  B0007V644S   \n",
       "4  I was so excited for bath time when I register...     []  B002LARFLY   \n",
       "\n",
       "  parent_asin                       user_id           timestamp  helpful_vote  \\\n",
       "0  B089MS68G8  AGKASBHYZPGTEPO6LWZPVJWB2BVA 2016-08-18 18:52:17             1   \n",
       "1  B01E5E703G  AGKASBHYZPGTEPO6LWZPVJWB2BVA 2016-08-18 17:44:04             1   \n",
       "2  B00F9386Q8  AGKASBHYZPGTEPO6LWZPVJWB2BVA 2016-01-13 02:08:01             0   \n",
       "3  B07RRDX26B  AGCI7FAH4GL5FI65HYLKWTMFZ2CQ 2014-08-25 19:14:11             0   \n",
       "4  B00OLRJET6  AGCI7FAH4GL5FI65HYLKWTMFZ2CQ 2012-10-09 21:42:41             0   \n",
       "\n",
       "   verified_purchase  \n",
       "0               True  \n",
       "1               True  \n",
       "2               True  \n",
       "3               True  \n",
       "4              False  "
      ]
     },
     "execution_count": 16,
     "metadata": {},
     "output_type": "execute_result"
    }
   ],
   "source": [
    "df.head()"
   ]
  },
  {
   "cell_type": "code",
   "execution_count": 17,
   "id": "cfa0a1df",
   "metadata": {},
   "outputs": [
    {
     "data": {
      "text/plain": [
       "B00ECHYTBI    28280\n",
       "B075QQ8VZW    17307\n",
       "B001OC5UMQ    12840\n",
       "B07F8HTSKD     8922\n",
       "B0053X62GK     7491\n",
       "              ...  \n",
       "B09BPSN8MC        1\n",
       "B07ZSVR2X7        1\n",
       "B07Z6YYCGS        1\n",
       "B001LK7E8E        1\n",
       "B00LMK7HT4        1\n",
       "Name: asin, Length: 296394, dtype: int64"
      ]
     },
     "execution_count": 17,
     "metadata": {},
     "output_type": "execute_result"
    }
   ],
   "source": [
    "df['asin'].value_counts()"
   ]
  },
  {
   "cell_type": "code",
   "execution_count": 18,
   "id": "44f3612c",
   "metadata": {},
   "outputs": [],
   "source": [
    "df = df[df['asin'] == 'B075QQ8VZW']"
   ]
  },
  {
   "cell_type": "code",
   "execution_count": 19,
   "id": "55e08c01",
   "metadata": {},
   "outputs": [
    {
     "data": {
      "text/plain": [
       "(17307, 10)"
      ]
     },
     "execution_count": 19,
     "metadata": {},
     "output_type": "execute_result"
    }
   ],
   "source": [
    "df.shape"
   ]
  },
  {
   "cell_type": "code",
   "execution_count": 20,
   "id": "d0fe86c4",
   "metadata": {},
   "outputs": [
    {
     "data": {
      "text/plain": [
       "rating               0\n",
       "title                0\n",
       "text                 0\n",
       "images               0\n",
       "asin                 0\n",
       "parent_asin          0\n",
       "user_id              0\n",
       "timestamp            0\n",
       "helpful_vote         0\n",
       "verified_purchase    0\n",
       "dtype: int64"
      ]
     },
     "execution_count": 20,
     "metadata": {},
     "output_type": "execute_result"
    }
   ],
   "source": [
    "df.isna().sum()"
   ]
  },
  {
   "cell_type": "code",
   "execution_count": 21,
   "id": "89c67097",
   "metadata": {},
   "outputs": [],
   "source": [
    "df = df.drop(columns=['title','images','parent_asin','user_id','helpful_vote'])"
   ]
  },
  {
   "cell_type": "code",
   "execution_count": 22,
   "id": "ce801140",
   "metadata": {},
   "outputs": [],
   "source": [
    "df = df[df['verified_purchase'] == True]"
   ]
  },
  {
   "cell_type": "code",
   "execution_count": 23,
   "id": "6c5d5857",
   "metadata": {},
   "outputs": [
    {
     "data": {
      "text/plain": [
       "(16857, 5)"
      ]
     },
     "execution_count": 23,
     "metadata": {},
     "output_type": "execute_result"
    }
   ],
   "source": [
    "df.shape"
   ]
  },
  {
   "cell_type": "code",
   "execution_count": 24,
   "id": "43fc3ee9",
   "metadata": {},
   "outputs": [],
   "source": [
    "df['timestamp'] = pd.to_datetime(df['timestamp'])"
   ]
  },
  {
   "cell_type": "code",
   "execution_count": 25,
   "id": "db3ec868",
   "metadata": {},
   "outputs": [
    {
     "name": "stdout",
     "output_type": "stream",
     "text": [
      "<class 'pandas.core.frame.DataFrame'>\n",
      "Int64Index: 16857 entries, 167 to 6028581\n",
      "Data columns (total 5 columns):\n",
      " #   Column             Non-Null Count  Dtype         \n",
      "---  ------             --------------  -----         \n",
      " 0   rating             16857 non-null  int64         \n",
      " 1   text               16857 non-null  object        \n",
      " 2   asin               16857 non-null  object        \n",
      " 3   timestamp          16857 non-null  datetime64[ns]\n",
      " 4   verified_purchase  16857 non-null  bool          \n",
      "dtypes: bool(1), datetime64[ns](1), int64(1), object(2)\n",
      "memory usage: 674.9+ KB\n"
     ]
    }
   ],
   "source": [
    "df.info()"
   ]
  },
  {
   "cell_type": "markdown",
   "id": "17aa63fd",
   "metadata": {},
   "source": [
    "## Performing Vader Sentiment Scoring"
   ]
  },
  {
   "cell_type": "code",
   "execution_count": 26,
   "id": "cc1b1448",
   "metadata": {},
   "outputs": [
    {
     "data": {
      "text/plain": [
       "167        Not sure if it’s worth it if it’s not complete...\n",
       "235                                                   Great!\n",
       "2562       Stores are sold out and this is so easy to use...\n",
       "2656       Waste of money. It varies more than a degree b...\n",
       "3026       Very easy to use, 1 button touch that accurate...\n",
       "                                 ...                        \n",
       "6027308    My toddler had so much fun with it(I am aware ...\n",
       "6027323    Inaccurate readings. Very disappointed in this...\n",
       "6028292    No pierdas tu tiempo ni tu dinero comprando esto!\n",
       "6028415                                          Easy to use\n",
       "6028581    Works great, and it doesn’t have to touch your...\n",
       "Name: text, Length: 16857, dtype: object"
      ]
     },
     "execution_count": 26,
     "metadata": {},
     "output_type": "execute_result"
    }
   ],
   "source": [
    "df['text']"
   ]
  },
  {
   "cell_type": "code",
   "execution_count": 27,
   "id": "f2d73b70",
   "metadata": {},
   "outputs": [
    {
     "name": "stdout",
     "output_type": "stream",
     "text": [
      "<class 'pandas.core.frame.DataFrame'>\n",
      "Int64Index: 16857 entries, 167 to 6028581\n",
      "Data columns (total 5 columns):\n",
      " #   Column             Non-Null Count  Dtype         \n",
      "---  ------             --------------  -----         \n",
      " 0   rating             16857 non-null  int64         \n",
      " 1   text               16857 non-null  object        \n",
      " 2   asin               16857 non-null  object        \n",
      " 3   timestamp          16857 non-null  datetime64[ns]\n",
      " 4   verified_purchase  16857 non-null  bool          \n",
      "dtypes: bool(1), datetime64[ns](1), int64(1), object(2)\n",
      "memory usage: 674.9+ KB\n"
     ]
    }
   ],
   "source": [
    "df.info()"
   ]
  },
  {
   "cell_type": "code",
   "execution_count": 28,
   "id": "2c7dc3de",
   "metadata": {},
   "outputs": [],
   "source": [
    "vader_sentiment = SentimentIntensityAnalyzer()"
   ]
  },
  {
   "cell_type": "code",
   "execution_count": 29,
   "id": "ecd25cd5",
   "metadata": {},
   "outputs": [],
   "source": [
    "example = df['text'].iloc[0]"
   ]
  },
  {
   "cell_type": "code",
   "execution_count": 30,
   "id": "f16b0e6a",
   "metadata": {},
   "outputs": [
    {
     "data": {
      "text/plain": [
       "'Not sure if it’s worth it if it’s not completely accurate'"
      ]
     },
     "execution_count": 30,
     "metadata": {},
     "output_type": "execute_result"
    }
   ],
   "source": [
    "example"
   ]
  },
  {
   "cell_type": "code",
   "execution_count": 31,
   "id": "9d07c021",
   "metadata": {},
   "outputs": [
    {
     "data": {
      "text/plain": [
       "{'neg': 0.153, 'neu': 0.7, 'pos': 0.148, 'compound': -0.016}"
      ]
     },
     "execution_count": 31,
     "metadata": {},
     "output_type": "execute_result"
    }
   ],
   "source": [
    "vader_sentiment.polarity_scores(example)"
   ]
  },
  {
   "cell_type": "code",
   "execution_count": 32,
   "id": "870c321c",
   "metadata": {},
   "outputs": [
    {
     "name": "stderr",
     "output_type": "stream",
     "text": [
      "100%|██████████| 16857/16857 [00:03<00:00, 4637.66it/s]\n"
     ]
    }
   ],
   "source": [
    "vader_data_sentiment = {}\n",
    "\n",
    "for i in tqdm(range(df.shape[0])):\n",
    "    rating = df['rating'].iloc[i]\n",
    "    text = df['text'].iloc[i]\n",
    "    timestamp = df['timestamp'].iloc[i]\n",
    "    \n",
    "    data = vader_sentiment.polarity_scores(text)\n",
    "    neg = data['neg']\n",
    "    neu = data['neu']\n",
    "    pos = data['pos']\n",
    "    \n",
    "    vader_data_sentiment[i] = [rating, text, timestamp, neg, neu, pos]"
   ]
  },
  {
   "cell_type": "code",
   "execution_count": 33,
   "id": "5d685deb",
   "metadata": {},
   "outputs": [
    {
     "name": "stderr",
     "output_type": "stream",
     "text": [
      "100%|██████████| 16857/16857 [00:03<00:00, 4729.89it/s]\n"
     ]
    }
   ],
   "source": [
    "vader_data_sentiment = {}\n",
    "\n",
    "for i in tqdm(range(df.shape[0])):\n",
    "    rating = df['rating'].iloc[i]\n",
    "    text = df['text'].iloc[i]\n",
    "    timestamp = df['timestamp'].iloc[i]\n",
    "    \n",
    "    data = vader_sentiment.polarity_scores(text)\n",
    "    neg = data['neg']\n",
    "    neu = data['neu']\n",
    "    pos = data['pos']\n",
    "    \n",
    "    vader_data_sentiment[i] = [rating, text, timestamp, neg, neu, pos]"
   ]
  },
  {
   "cell_type": "code",
   "execution_count": 34,
   "id": "477bb7f4",
   "metadata": {},
   "outputs": [],
   "source": [
    "vader_df = pd.DataFrame.from_dict(\n",
    "    vader_data_sentiment,\n",
    "    orient='index',\n",
    "    columns=['rating', 'text', 'timestamp', 'neg', 'neu', 'pos']\n",
    ")"
   ]
  },
  {
   "cell_type": "code",
   "execution_count": 35,
   "id": "e2496573",
   "metadata": {},
   "outputs": [],
   "source": [
    "data = dict(sorted(dict(vader_df['rating'].value_counts()).items()))\n",
    "keys = list(data.keys())\n",
    "values = list(data.values())"
   ]
  },
  {
   "cell_type": "markdown",
   "id": "286616d3",
   "metadata": {},
   "source": [
    "### Distribution of the Ratings"
   ]
  },
  {
   "cell_type": "code",
   "execution_count": 36,
   "id": "ee4de9f7",
   "metadata": {},
   "outputs": [
    {
     "data": {
      "image/png": "[encoded data removed]",
      "text/plain": [
       "<Figure size 1000x500 with 1 Axes>"
      ]
     },
     "metadata": {},
     "output_type": "display_data"
    }
   ],
   "source": [
    "plt.figure(figsize = (10,5))\n",
    "plt.bar(keys,values,color = 'orange')\n",
    "plt.title('Distribution of Rating')\n",
    "plt.xlabel('Rating')\n",
    "plt.ylabel('Rating Count')\n",
    "plt.grid(alpha = 0.3)\n",
    "plt.tight_layout()\n"
   ]
  },
  {
   "cell_type": "markdown",
   "id": "3ee1cb87",
   "metadata": {},
   "source": [
    "### Distribution of the Sentiments captured by the Vader"
   ]
  },
  {
   "cell_type": "code",
   "execution_count": 37,
   "id": "6234fb4f",
   "metadata": {},
   "outputs": [],
   "source": [
    "vader_df['label'] = vader_df[['neg', 'neu', 'pos']].idxmax(axis=1)"
   ]
  },
  {
   "cell_type": "code",
   "execution_count": 38,
   "id": "ea1dd84f",
   "metadata": {},
   "outputs": [],
   "source": [
    "neu_score = vader_df[vader_df['label'] == 'neu']\n",
    "pos_score = vader_df[vader_df['label'] == 'pos']\n",
    "neg_score = vader_df[vader_df['label'] == 'neg']"
   ]
  },
  {
   "cell_type": "code",
   "execution_count": 39,
   "id": "028d9426",
   "metadata": {},
   "outputs": [],
   "source": [
    "def get_data(data):\n",
    "    data = dict(sorted(dict(data['rating'].value_counts()).items()))\n",
    "    keys = list(data.keys())\n",
    "    values = list(data.values())\n",
    "    return keys,values\n",
    "\n",
    "neu_score_key , neu_score_value = get_data(neu_score)\n",
    "pos_score_key , pos_score_value = get_data(pos_score)\n",
    "neg_score_key , neg_score_value = get_data(neg_score)"
   ]
  },
  {
   "cell_type": "code",
   "execution_count": 40,
   "id": "6d35c1c3",
   "metadata": {},
   "outputs": [
    {
     "data": {
      "image/png": "[encoded data removed]",
      "text/plain": [
       "<Figure size 1800x500 with 3 Axes>"
      ]
     },
     "metadata": {},
     "output_type": "display_data"
    }
   ],
   "source": [
    "fig , arr = plt.subplots(1,3,figsize = (18,5))\n",
    "\n",
    "arr[0].bar(neu_score_key, neu_score_value, color='gray')\n",
    "arr[0].set_title('Neutral Sentiment by Rating')\n",
    "arr[0].set_xlabel('Rating')\n",
    "arr[0].set_ylabel('Count')\n",
    "arr[0].grid(True, alpha=0.5)\n",
    "\n",
    "arr[1].bar(pos_score_key, pos_score_value, color='green')\n",
    "arr[1].set_title('Positive Sentiment by Rating')\n",
    "arr[1].set_xlabel('Rating')\n",
    "arr[1].set_ylabel('Count')\n",
    "arr[1].grid(True, alpha=0.5)\n",
    "\n",
    "arr[2].bar(neg_score_key, neg_score_value, color='red')\n",
    "arr[2].set_title('Negative Sentiment by Rating')\n",
    "arr[2].set_xlabel('Rating')\n",
    "arr[2].set_ylabel('Count')\n",
    "arr[2].grid(True, alpha=0.3)\n",
    "\n",
    "plt.tight_layout()"
   ]
  },
  {
   "cell_type": "markdown",
   "id": "8abe8674",
   "metadata": {},
   "source": [
    "### Performing RoBERTa To perform Sentiments"
   ]
  },
  {
   "cell_type": "code",
   "execution_count": 41,
   "id": "dd16698e",
   "metadata": {},
   "outputs": [
    {
     "data": {
      "text/plain": [
       "RobertaForSequenceClassification(\n",
       "  (roberta): RobertaModel(\n",
       "    (embeddings): RobertaEmbeddings(\n",
       "      (word_embeddings): Embedding(50265, 768, padding_idx=1)\n",
       "      (position_embeddings): Embedding(514, 768, padding_idx=1)\n",
       "      (token_type_embeddings): Embedding(1, 768)\n",
       "      (LayerNorm): LayerNorm((768,), eps=1e-05, elementwise_affine=True)\n",
       "      (dropout): Dropout(p=0.1, inplace=False)\n",
       "    )\n",
       "    (encoder): RobertaEncoder(\n",
       "      (layer): ModuleList(\n",
       "        (0-11): 12 x RobertaLayer(\n",
       "          (attention): RobertaAttention(\n",
       "            (self): RobertaSdpaSelfAttention(\n",
       "              (query): Linear(in_features=768, out_features=768, bias=True)\n",
       "              (key): Linear(in_features=768, out_features=768, bias=True)\n",
       "              (value): Linear(in_features=768, out_features=768, bias=True)\n",
       "              (dropout): Dropout(p=0.1, inplace=False)\n",
       "            )\n",
       "            (output): RobertaSelfOutput(\n",
       "              (dense): Linear(in_features=768, out_features=768, bias=True)\n",
       "              (LayerNorm): LayerNorm((768,), eps=1e-05, elementwise_affine=True)\n",
       "              (dropout): Dropout(p=0.1, inplace=False)\n",
       "            )\n",
       "          )\n",
       "          (intermediate): RobertaIntermediate(\n",
       "            (dense): Linear(in_features=768, out_features=3072, bias=True)\n",
       "            (intermediate_act_fn): GELUActivation()\n",
       "          )\n",
       "          (output): RobertaOutput(\n",
       "            (dense): Linear(in_features=3072, out_features=768, bias=True)\n",
       "            (LayerNorm): LayerNorm((768,), eps=1e-05, elementwise_affine=True)\n",
       "            (dropout): Dropout(p=0.1, inplace=False)\n",
       "          )\n",
       "        )\n",
       "      )\n",
       "    )\n",
       "  )\n",
       "  (classifier): RobertaClassificationHead(\n",
       "    (dense): Linear(in_features=768, out_features=768, bias=True)\n",
       "    (dropout): Dropout(p=0.1, inplace=False)\n",
       "    (out_proj): Linear(in_features=768, out_features=3, bias=True)\n",
       "  )\n",
       ")"
      ]
     },
     "execution_count": 41,
     "metadata": {},
     "output_type": "execute_result"
    }
   ],
   "source": [
    "path = \"Roberta_model\"\n",
    "tokenizer = RobertaTokenizer.from_pretrained(path)\n",
    "model = RobertaForSequenceClassification.from_pretrained(path, num_labels=3) \n",
    "\n",
    "model.eval()"
   ]
  },
  {
   "cell_type": "markdown",
   "id": "d1147654",
   "metadata": {},
   "source": [
    "### Performing RoBERTa To perform Sentiments"
   ]
  },
  {
   "cell_type": "code",
   "execution_count": 42,
   "id": "c36fa181",
   "metadata": {},
   "outputs": [],
   "source": [
    "def polarity_score(example):\n",
    "\n",
    "    encoded_text = tokenizer(example,return_tensors = 'pt')\n",
    "    output = model(**encoded_text)\n",
    "    scores = output[0][0].detach().numpy()\n",
    "    scores = softmax(scores)\n",
    "    scores_dict = {\n",
    "        'roberta_neg' : scores[0],\n",
    "        'roberta_neu' : scores[1],\n",
    "        'roberta_pos' : scores[2]\n",
    "    }\n",
    "    return scores_dict\n"
   ]
  },
  {
   "cell_type": "code",
   "execution_count": 43,
   "id": "921294cf",
   "metadata": {},
   "outputs": [
    {
     "name": "stderr",
     "output_type": "stream",
     "text": [
      "c:\\Users\\Mihir\\anaconda3\\Lib\\site-packages\\transformers\\models\\bart\\configuration_bart.py:176: UserWarning: Please make sure the config includes `forced_bos_token_id=0` in future versions. The config can simply be saved and uploaded again to be fixed.\n",
      "  warnings.warn(\n"
     ]
    }
   ],
   "source": [
    "path = 'saved_model'\n",
    "summarizer = BartForConditionalGeneration.from_pretrained(path)\n",
    "summarizer_tokenizer = BartTokenizer.from_pretrained(path)      "
   ]
  },
  {
   "cell_type": "code",
   "execution_count": 44,
   "id": "438e596a",
   "metadata": {},
   "outputs": [],
   "source": [
    "def summarize_text(text, max_length=200):\n",
    "    word_count = len(text.split())\n",
    "    \n",
    "    if word_count > 100: \n",
    "        max_length = max(50, int(0.5 * word_count))\n",
    "        min_length = max(20, int(0.2 * word_count))\n",
    "        \n",
    "        words = text.split()\n",
    "        trimmed_text = \" \".join(words[:300])\n",
    "\n",
    "        inputs = summarizer_tokenizer(trimmed_text, return_tensors=\"pt\", max_length=1024, truncation=True)\n",
    "        summary_ids = summarizer.generate(\n",
    "            inputs[\"input_ids\"], \n",
    "            max_length=max_length, \n",
    "            min_length=min_length,\n",
    "            num_beams=4, \n",
    "            early_stopping=True\n",
    "        )\n",
    "        summary = summarizer_tokenizer.decode(summary_ids[0], skip_special_tokens=True)\n",
    "        return summary\n",
    "\n",
    "    return text\n"
   ]
  },
  {
   "cell_type": "code",
   "execution_count": 45,
   "id": "be9266b1",
   "metadata": {},
   "outputs": [
    {
     "name": "stderr",
     "output_type": "stream",
     "text": [
      "c:\\Users\\Mihir\\anaconda3\\Lib\\site-packages\\transformers\\generation\\utils.py:1581: UserWarning: You have modified the pretrained model configuration to control generation. This is a deprecated strategy to control generation and will be removed in v5. Please use and modify the model generation configuration (see https://huggingface.co/docs/transformers/generation_strategies#default-text-generation-configuration )\n",
      "  warnings.warn(\n"
     ]
    }
   ],
   "source": [
    "df['text'] = df['text'].apply(summarize_text)"
   ]
  },
  {
   "cell_type": "code",
   "execution_count": 46,
   "id": "709e4a96",
   "metadata": {},
   "outputs": [
    {
     "name": "stderr",
     "output_type": "stream",
     "text": [
      "100%|██████████| 16857/16857 [15:25<00:00, 18.22it/s]\n"
     ]
    }
   ],
   "source": [
    "result = {}\n",
    "\n",
    "for i in tqdm(range(df.shape[0])):\n",
    "    index = i\n",
    "    rating = df['rating'].iloc[i]\n",
    "    text = df['text'].iloc[i]\n",
    "    timestamp = df['timestamp'].iloc[i]\n",
    "        \n",
    "    score = polarity_score(text)\n",
    "    roberta_neg = score['roberta_neg']\n",
    "    roberta_neu = score['roberta_neu']\n",
    "    roberta_pos = score['roberta_pos']\n",
    "\n",
    "    result[index] = [rating,text,timestamp,roberta_neg,roberta_neu,roberta_pos]"
   ]
  },
  {
   "cell_type": "code",
   "execution_count": 47,
   "id": "f42116a2",
   "metadata": {},
   "outputs": [],
   "source": [
    "new_df = pd.DataFrame.from_dict(\n",
    "    result,\n",
    "    orient='index',\n",
    "    columns=['rating', 'text', 'timestamp', 'rob_neg', 'rob_neu', 'rob_pos']\n",
    ")"
   ]
  },
  {
   "cell_type": "code",
   "execution_count": 48,
   "id": "4a34edea",
   "metadata": {},
   "outputs": [
    {
     "data": {
      "text/html": [
       "<div>\n",
       "<style scoped>\n",
       "    .dataframe tbody tr th:only-of-type {\n",
       "        vertical-align: middle;\n",
       "    }\n",
       "\n",
       "    .dataframe tbody tr th {\n",
       "        vertical-align: top;\n",
       "    }\n",
       "\n",
       "    .dataframe thead th {\n",
       "        text-align: right;\n",
       "    }\n",
       "</style>\n",
       "<table border=\"1\" class=\"dataframe\">\n",
       "  <thead>\n",
       "    <tr style=\"text-align: right;\">\n",
       "      <th></th>\n",
       "      <th>rating</th>\n",
       "      <th>text</th>\n",
       "      <th>timestamp</th>\n",
       "      <th>rob_neg</th>\n",
       "      <th>rob_neu</th>\n",
       "      <th>rob_pos</th>\n",
       "    </tr>\n",
       "  </thead>\n",
       "  <tbody>\n",
       "    <tr>\n",
       "      <th>0</th>\n",
       "      <td>4</td>\n",
       "      <td>Not sure if it’s worth it if it’s not complete...</td>\n",
       "      <td>2022-12-01 02:17:07.139</td>\n",
       "      <td>0.525368</td>\n",
       "      <td>0.451032</td>\n",
       "      <td>0.023600</td>\n",
       "    </tr>\n",
       "    <tr>\n",
       "      <th>1</th>\n",
       "      <td>5</td>\n",
       "      <td>Great!</td>\n",
       "      <td>2022-06-28 15:41:41.830</td>\n",
       "      <td>0.007591</td>\n",
       "      <td>0.069169</td>\n",
       "      <td>0.923240</td>\n",
       "    </tr>\n",
       "    <tr>\n",
       "      <th>2</th>\n",
       "      <td>5</td>\n",
       "      <td>Stores are sold out and this is so easy to use...</td>\n",
       "      <td>2022-12-23 15:49:52.046</td>\n",
       "      <td>0.003544</td>\n",
       "      <td>0.022164</td>\n",
       "      <td>0.974292</td>\n",
       "    </tr>\n",
       "    <tr>\n",
       "      <th>3</th>\n",
       "      <td>1</td>\n",
       "      <td>Waste of money. It varies more than a degree b...</td>\n",
       "      <td>2020-08-21 11:37:54.561</td>\n",
       "      <td>0.911902</td>\n",
       "      <td>0.078397</td>\n",
       "      <td>0.009701</td>\n",
       "    </tr>\n",
       "    <tr>\n",
       "      <th>4</th>\n",
       "      <td>5</td>\n",
       "      <td>Very easy to use, 1 button touch that accurate...</td>\n",
       "      <td>2020-10-21 17:54:19.216</td>\n",
       "      <td>0.003531</td>\n",
       "      <td>0.081844</td>\n",
       "      <td>0.914625</td>\n",
       "    </tr>\n",
       "  </tbody>\n",
       "</table>\n",
       "</div>"
      ],
      "text/plain": [
       "   rating                                               text  \\\n",
       "0       4  Not sure if it’s worth it if it’s not complete...   \n",
       "1       5                                             Great!   \n",
       "2       5  Stores are sold out and this is so easy to use...   \n",
       "3       1  Waste of money. It varies more than a degree b...   \n",
       "4       5  Very easy to use, 1 button touch that accurate...   \n",
       "\n",
       "                timestamp   rob_neg   rob_neu   rob_pos  \n",
       "0 2022-12-01 02:17:07.139  0.525368  0.451032  0.023600  \n",
       "1 2022-06-28 15:41:41.830  0.007591  0.069169  0.923240  \n",
       "2 2022-12-23 15:49:52.046  0.003544  0.022164  0.974292  \n",
       "3 2020-08-21 11:37:54.561  0.911902  0.078397  0.009701  \n",
       "4 2020-10-21 17:54:19.216  0.003531  0.081844  0.914625  "
      ]
     },
     "execution_count": 48,
     "metadata": {},
     "output_type": "execute_result"
    }
   ],
   "source": [
    "new_df.head()"
   ]
  },
  {
   "cell_type": "code",
   "execution_count": 49,
   "id": "c4a33db5",
   "metadata": {},
   "outputs": [],
   "source": [
    "new_df.to_csv('sentiment_scored.csv')"
   ]
  }
 ],
 "metadata": {
  "kernelspec": {
   "display_name": "base",
   "language": "python",
   "name": "python3"
  },
  "language_info": {
   "codemirror_mode": {
    "name": "ipython",
    "version": 3
   },
   "file_extension": ".py",
   "mimetype": "text/x-python",
   "name": "python",
   "nbconvert_exporter": "python",
   "pygments_lexer": "ipython3",
   "version": "3.11.7"
  }
 },
 "nbformat": 4,
 "nbformat_minor": 5
}

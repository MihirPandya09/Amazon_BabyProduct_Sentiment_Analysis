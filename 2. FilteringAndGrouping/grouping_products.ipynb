{
 "cells": [
  {
   "cell_type": "code",
   "execution_count": 1,
   "id": "6b56bc1c",
   "metadata": {},
   "outputs": [],
   "source": [
    "import pandas as pd\n",
    "import numpy as np"
   ]
  },
  {
   "cell_type": "code",
   "execution_count": 3,
   "id": "a8499d22",
   "metadata": {},
   "outputs": [
    {
     "data": {
      "text/html": [
       "<div>\n",
       "<style scoped>\n",
       "    .dataframe tbody tr th:only-of-type {\n",
       "        vertical-align: middle;\n",
       "    }\n",
       "\n",
       "    .dataframe tbody tr th {\n",
       "        vertical-align: top;\n",
       "    }\n",
       "\n",
       "    .dataframe thead th {\n",
       "        text-align: right;\n",
       "    }\n",
       "</style>\n",
       "<table border=\"1\" class=\"dataframe\">\n",
       "  <thead>\n",
       "    <tr style=\"text-align: right;\">\n",
       "      <th></th>\n",
       "      <th>timestamp</th>\n",
       "      <th>rating</th>\n",
       "      <th>title</th>\n",
       "      <th>text</th>\n",
       "      <th>parent_asin</th>\n",
       "      <th>verified_purchase</th>\n",
       "    </tr>\n",
       "  </thead>\n",
       "  <tbody>\n",
       "    <tr>\n",
       "      <th>0</th>\n",
       "      <td>2016-08-18 18:52:17</td>\n",
       "      <td>4.0</td>\n",
       "      <td>Good buy for preschool naps and home use...</td>\n",
       "      <td>I bought two of these for my kids for nap time...</td>\n",
       "      <td>B089MS68G8</td>\n",
       "      <td>True</td>\n",
       "    </tr>\n",
       "    <tr>\n",
       "      <th>1</th>\n",
       "      <td>2016-08-18 17:44:04</td>\n",
       "      <td>5.0</td>\n",
       "      <td>THEY WORK- and are super cute to boot...</td>\n",
       "      <td>LOVE THESE! AND THEY WORK!!! I was on the fenc...</td>\n",
       "      <td>B01E5E703G</td>\n",
       "      <td>True</td>\n",
       "    </tr>\n",
       "    <tr>\n",
       "      <th>2</th>\n",
       "      <td>2016-01-13 02:08:01</td>\n",
       "      <td>1.0</td>\n",
       "      <td>cute but small and pretty much unusable as a c...</td>\n",
       "      <td>cute but small and pretty much unusable as a c...</td>\n",
       "      <td>B00F9386Q8</td>\n",
       "      <td>True</td>\n",
       "    </tr>\n",
       "    <tr>\n",
       "      <th>3</th>\n",
       "      <td>2014-08-25 19:14:11</td>\n",
       "      <td>5.0</td>\n",
       "      <td>Works great perfect size!</td>\n",
       "      <td>I have lots of different disposable diaper bag...</td>\n",
       "      <td>B07RRDX26B</td>\n",
       "      <td>True</td>\n",
       "    </tr>\n",
       "    <tr>\n",
       "      <th>4</th>\n",
       "      <td>2012-10-09 21:42:41</td>\n",
       "      <td>5.0</td>\n",
       "      <td>Cute and Works Great</td>\n",
       "      <td>I was so excited for bath time when I register...</td>\n",
       "      <td>B00OLRJET6</td>\n",
       "      <td>False</td>\n",
       "    </tr>\n",
       "  </tbody>\n",
       "</table>\n",
       "</div>"
      ],
      "text/plain": [
       "             timestamp  rating  \\\n",
       "0  2016-08-18 18:52:17     4.0   \n",
       "1  2016-08-18 17:44:04     5.0   \n",
       "2  2016-01-13 02:08:01     1.0   \n",
       "3  2014-08-25 19:14:11     5.0   \n",
       "4  2012-10-09 21:42:41     5.0   \n",
       "\n",
       "                                               title  \\\n",
       "0        Good buy for preschool naps and home use...   \n",
       "1           THEY WORK- and are super cute to boot...   \n",
       "2  cute but small and pretty much unusable as a c...   \n",
       "3                          Works great perfect size!   \n",
       "4                               Cute and Works Great   \n",
       "\n",
       "                                                text parent_asin  \\\n",
       "0  I bought two of these for my kids for nap time...  B089MS68G8   \n",
       "1  LOVE THESE! AND THEY WORK!!! I was on the fenc...  B01E5E703G   \n",
       "2  cute but small and pretty much unusable as a c...  B00F9386Q8   \n",
       "3  I have lots of different disposable diaper bag...  B07RRDX26B   \n",
       "4  I was so excited for bath time when I register...  B00OLRJET6   \n",
       "\n",
       "   verified_purchase  \n",
       "0               True  \n",
       "1               True  \n",
       "2               True  \n",
       "3               True  \n",
       "4              False  "
      ]
     },
     "execution_count": 3,
     "metadata": {},
     "output_type": "execute_result"
    }
   ],
   "source": [
    "df = pd.read_csv('E:\\DAIICT\\Sem 2\\Deep Learning\\Sentiment\\Baby_Product_Reviews.csv')\n",
    "df.head()"
   ]
  },
  {
   "cell_type": "code",
   "execution_count": 12,
   "id": "15616137",
   "metadata": {},
   "outputs": [
    {
     "data": {
      "text/plain": [
       "numpy.bool_"
      ]
     },
     "execution_count": 12,
     "metadata": {},
     "output_type": "execute_result"
    }
   ],
   "source": [
    "type(df[\"verified_purchase\"][0])"
   ]
  },
  {
   "cell_type": "code",
   "execution_count": 6,
   "id": "babe6709",
   "metadata": {},
   "outputs": [
    {
     "data": {
      "text/plain": [
       "parent_asin\n",
       "B00ECHYTBI    28280\n",
       "B075QQ8VZW    17309\n",
       "B0BG6JYNQX    16265\n",
       "B07XM9DX9H    11194\n",
       "B0BB84JXS9    11006\n",
       "              ...  \n",
       "B08C1J5GLW        1\n",
       "B01AZHLRQ8        1\n",
       "B08BZZKZYK        1\n",
       "B01AZHTMOC        1\n",
       "B0CKZD9PNJ        1\n",
       "Length: 217654, dtype: int64"
      ]
     },
     "execution_count": 6,
     "metadata": {},
     "output_type": "execute_result"
    }
   ],
   "source": [
    "df.groupby('parent_asin').size().sort_values(ascending=False)"
   ]
  },
  {
   "cell_type": "code",
   "execution_count": 19,
   "id": "00d84955",
   "metadata": {},
   "outputs": [
    {
     "data": {
      "text/plain": [
       "24946"
      ]
     },
     "execution_count": 19,
     "metadata": {},
     "output_type": "execute_result"
    }
   ],
   "source": [
    "len(df[(df['parent_asin'] == \"B00ECHYTBI\") & (df['verified_purchase'] == True)])"
   ]
  },
  {
   "cell_type": "code",
   "execution_count": 20,
   "id": "d48fc711",
   "metadata": {},
   "outputs": [
    {
     "data": {
      "text/plain": [
       "16859"
      ]
     },
     "execution_count": 20,
     "metadata": {},
     "output_type": "execute_result"
    }
   ],
   "source": [
    "len(df[(df['parent_asin'] == \"B075QQ8VZW\") & (df['verified_purchase'] == True)])"
   ]
  },
  {
   "cell_type": "code",
   "execution_count": 21,
   "id": "fc35e9d7",
   "metadata": {},
   "outputs": [
    {
     "data": {
      "text/plain": [
       "15566"
      ]
     },
     "execution_count": 21,
     "metadata": {},
     "output_type": "execute_result"
    }
   ],
   "source": [
    "len(df[(df['parent_asin'] == \"B0BG6JYNQX\") & (df['verified_purchase'] == True)])"
   ]
  },
  {
   "cell_type": "code",
   "execution_count": 30,
   "id": "c898a116",
   "metadata": {},
   "outputs": [],
   "source": [
    "top_1 = df[(df['parent_asin'] == \"B00ECHYTBI\") & (df['verified_purchase'] == True)]\n",
    "top_1.head()\n",
    "top_1.to_csv(\"TopProduct_1\")"
   ]
  },
  {
   "cell_type": "code",
   "execution_count": 31,
   "id": "373531d0",
   "metadata": {},
   "outputs": [],
   "source": [
    "top_2 = df[(df['parent_asin'] == \"B075QQ8VZW\") & (df['verified_purchase'] == True)]\n",
    "top_2.head()\n",
    "top_2.to_csv(\"TopProduct_2\")"
   ]
  },
  {
   "cell_type": "code",
   "execution_count": 32,
   "id": "920115ed",
   "metadata": {},
   "outputs": [],
   "source": [
    "top_3 = df[(df['parent_asin'] == \"B0BG6JYNQX\") & (df['verified_purchase'] == True)]\n",
    "top_3.head()\n",
    "top_3.to_csv(\"TopProduct_3\")"
   ]
  }
 ],
 "metadata": {
  "kernelspec": {
   "display_name": "Python 3",
   "language": "python",
   "name": "python3"
  },
  "language_info": {
   "codemirror_mode": {
    "name": "ipython",
    "version": 3
   },
   "file_extension": ".py",
   "mimetype": "text/x-python",
   "name": "python",
   "nbconvert_exporter": "python",
   "pygments_lexer": "ipython3",
   "version": "3.10.11"
  }
 },
 "nbformat": 4,
 "nbformat_minor": 5
}
